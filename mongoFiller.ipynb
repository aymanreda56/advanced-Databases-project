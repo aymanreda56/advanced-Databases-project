{
 "cells": [
  {
   "cell_type": "code",
   "execution_count": 2,
   "metadata": {},
   "outputs": [],
   "source": [
    "import pymongo\n",
    "import pandas as pd\n"
   ]
  },
  {
   "cell_type": "code",
   "execution_count": null,
   "metadata": {},
   "outputs": [],
   "source": [
    "'''\n",
    "myclient = pymongo.MongoClient(\"mongodb://localhost:27017/\")\n",
    "mydb = myclient[\"mydatabase\"]\n",
    "mycol = mydb[\"customers\"]\n",
    "\n",
    "mydict = { \"name\": \"John\", \"address\": \"Highway 37\" }\n",
    "\n",
    "x = mycol.insert_one(mydict)\n",
    "'''\n"
   ]
  },
  {
   "cell_type": "code",
   "execution_count": 2,
   "metadata": {},
   "outputs": [
    {
     "name": "stdout",
     "output_type": "stream",
     "text": [
      "done reading file\n",
      "   Unnamed: 0 first_name Minit  last_name  \\\n",
      "0           0       Mary     a       Anna   \n",
      "1           1       Anna     b       Emma   \n",
      "2           2       Emma     c  Elizabeth   \n",
      "3           3  Elizabeth     d     Minnie   \n",
      "4           4     Minnie     e   Margaret   \n",
      "\n",
      "                                Address       BDate  Sex   Salary  \n",
      "0           7353 HIGHLAND RD, STE B 282  2000-01-01  0.0      0.0  \n",
      "1               9007 HIGHLAND RD, STE 9  2001-02-02  1.0   3000.0  \n",
      "2   5830 S SHERWOOD FOREST BLVD, STE A6  2002-03-03  2.0   6000.0  \n",
      "3  4520 S SHERWOOD FOREST BLVD, STE 103  2003-04-04  0.0   9000.0  \n",
      "4                 8334 O'HARA CT, STE D  2004-05-05  1.0  12000.0  \n"
     ]
    }
   ],
   "source": [
    "\n",
    "emp_df = pd.read_csv('Employee.csv')\n",
    "print(\"done reading file\")\n",
    "print(emp_df.head())\n"
   ]
  },
  {
   "cell_type": "code",
   "execution_count": 3,
   "metadata": {},
   "outputs": [
    {
     "name": "stdout",
     "output_type": "stream",
     "text": [
      "0\n",
      "10\n",
      "20\n",
      "30\n",
      "40\n",
      "50\n",
      "60\n",
      "70\n",
      "80\n",
      "90\n"
     ]
    }
   ],
   "source": [
    "\n",
    "client = pymongo.MongoClient(\"mongodb://localhost:27017/\")\n",
    "db = client['Project']\n",
    "collection = db['Employee']\n",
    "\n",
    "listDict = []\n",
    "for i in range(100):\n",
    "    listDict.append(emp_df.iloc[i*1000:(i+1)*1000,1:].to_dict(\"records\"))\n",
    "\n",
    "for i in range(100):\n",
    "    collection.insert_many(listDict[i])\n",
    "    if i%10 == 0:\n",
    "        print(i)\n",
    "\n"
   ]
  },
  {
   "cell_type": "code",
   "execution_count": 4,
   "metadata": {},
   "outputs": [
    {
     "name": "stdout",
     "output_type": "stream",
     "text": [
      "done reading file\n",
      "   Unnamed: 0                            Dname    Mgr_SSN Mgr_Start_Date\n",
      "0           0       G2uaKs1hVo5uDm1fwluIKy4aSr  1601222.0     2016-06-11\n",
      "1           1                 xNDUlw79PRm2FhXa  1045890.0     2021-10-05\n",
      "2           2     LZYUZWWRpLhSIkVBfV5453i2xk1x  1560490.0     2019-06-26\n",
      "3           3                 aWymboJEQ4ZPMhmH   935296.0     2013-07-11\n",
      "4           4  DystpqIH3Vgpl468rgRAlMwkDwiMVZm    52888.0     2001-01-26\n"
     ]
    }
   ],
   "source": [
    "dep_df = pd.read_csv('Department.csv')\n",
    "print(\"done reading file\")\n",
    "print(dep_df.head())"
   ]
  },
  {
   "cell_type": "code",
   "execution_count": 7,
   "metadata": {},
   "outputs": [
    {
     "name": "stdout",
     "output_type": "stream",
     "text": [
      "0\n",
      "10\n",
      "20\n",
      "30\n",
      "40\n",
      "50\n",
      "60\n",
      "70\n",
      "80\n",
      "90\n"
     ]
    }
   ],
   "source": [
    "\n",
    "\n",
    "client = pymongo.MongoClient(\"mongodb://localhost:27017/\")\n",
    "db = client['Project']\n",
    "collection = db['Department']\n",
    "\n",
    "listDict = []\n",
    "for i in range(100):\n",
    "    listDict.append(dep_df.iloc[i*1000:(i+1)*1000,1:].to_dict(\"records\"))\n",
    "\n",
    "for i in range(100):\n",
    "    collection.insert_many(listDict[i])\n",
    "    if i%10 == 0:\n",
    "        print(i)\n",
    "\n"
   ]
  },
  {
   "cell_type": "code",
   "execution_count": 5,
   "metadata": {},
   "outputs": [
    {
     "name": "stdout",
     "output_type": "stream",
     "text": [
      "done reading file\n",
      "   Unnamed: 0                                           Pname  \\\n",
      "0           0                              advanced databases   \n",
      "1           1                                              9F   \n",
      "2           2                           LEZ3SwJIykqigwhJ1bPw7   \n",
      "3           3             Vyp3AQZxOF4zQNki7hAU5m5B7X4gY1o3cy6   \n",
      "4           4  ffI4FhNEyXiK9ri5QToVRIBkxg5pUCgOV1m7BB868r2nm8   \n",
      "\n",
      "                              Plocation  DNO  \n",
      "0           7353 HIGHLAND RD, STE B 282  1.0  \n",
      "1               9007 HIGHLAND RD, STE 9  2.0  \n",
      "2   5830 S SHERWOOD FOREST BLVD, STE A6  3.0  \n",
      "3  4520 S SHERWOOD FOREST BLVD, STE 103  4.0  \n",
      "4                 8334 O'HARA CT, STE D  5.0  \n"
     ]
    }
   ],
   "source": [
    "proj_df = pd.read_csv('Project.csv')\n",
    "print(\"done reading file\")\n",
    "print(proj_df.head())"
   ]
  },
  {
   "cell_type": "code",
   "execution_count": 8,
   "metadata": {},
   "outputs": [
    {
     "name": "stdout",
     "output_type": "stream",
     "text": [
      "0\n",
      "10\n",
      "20\n",
      "30\n",
      "40\n",
      "50\n",
      "60\n",
      "70\n",
      "80\n",
      "90\n"
     ]
    }
   ],
   "source": [
    "\n",
    "client = pymongo.MongoClient(\"mongodb://localhost:27017/\")\n",
    "db = client['Project']\n",
    "collection = db['Project']\n",
    "\n",
    "listDict = []\n",
    "for i in range(100):\n",
    "    listDict.append(proj_df.iloc[i*1000:(i+1)*1000,1:].to_dict(\"records\"))\n",
    "\n",
    "for i in range(100):\n",
    "    collection.insert_many(listDict[i])\n",
    "    if i%10 == 0:\n",
    "        print(i)\n"
   ]
  },
  {
   "cell_type": "code",
   "execution_count": 9,
   "metadata": {},
   "outputs": [
    {
     "name": "stdout",
     "output_type": "stream",
     "text": [
      "done reading file\n",
      "   Unnamed: 0      Fname Minit      Lname       Bdate  \\\n",
      "0           0       Anna     C       Anna  2000-01-25   \n",
      "1           1       Emma     P       Emma  2001-02-24   \n",
      "2           2  Elizabeth     g  Elizabeth  2000-04-01   \n",
      "3           3     Minnie     y     Minnie  2000-03-27   \n",
      "4           4   Margaret     U   Margaret  2013-05-21   \n",
      "\n",
      "                               Address_  Sex   Salary                  Major  \\\n",
      "0               9007 HIGHLAND RD, STE 9  1.0  57209.0          sales manager   \n",
      "1   5830 S SHERWOOD FOREST BLVD, STE A6  2.0  83730.0              principal   \n",
      "2  4520 S SHERWOOD FOREST BLVD, STE 103  2.0  82711.0                  owner   \n",
      "3                 8334 O'HARA CT, STE D  2.0  53267.0   chief executive offi   \n",
      "4               4250 BLOUNT RD, UNIT 14  0.0  38652.0           math teacher   \n",
      "\n",
      "   Super_SSN  \n",
      "0   220600.0  \n",
      "1   390500.0  \n",
      "2    79200.0  \n",
      "3     3700.0  \n",
      "4   231100.0  \n"
     ]
    }
   ],
   "source": [
    "intern_df = pd.read_csv('Intern.csv')\n",
    "print(\"done reading file\")\n",
    "print(intern_df.head())"
   ]
  },
  {
   "cell_type": "code",
   "execution_count": 10,
   "metadata": {},
   "outputs": [
    {
     "name": "stdout",
     "output_type": "stream",
     "text": [
      "0\n"
     ]
    }
   ],
   "source": [
    "\n",
    "client = pymongo.MongoClient(\"mongodb://localhost:27017/\")\n",
    "db = client['Project']\n",
    "collection = db['Intern']\n",
    "\n",
    "listDict = []\n",
    "for i in range(10):\n",
    "    listDict.append(intern_df.iloc[i*1000:(i+1)*1000,1:].to_dict(\"records\"))\n",
    "\n",
    "for i in range(10):\n",
    "    collection.insert_many(listDict[i])\n",
    "    if i%10 == 0:\n",
    "        print(i)\n"
   ]
  },
  {
   "cell_type": "code",
   "execution_count": 11,
   "metadata": {},
   "outputs": [
    {
     "name": "stdout",
     "output_type": "stream",
     "text": [
      "done reading file\n",
      "   Unnamed: 0  (0, 'Name_Company') Date_created  ProjectID  Product  \\\n",
      "0           0                  NaN   2013-05-21        2.0    63999   \n",
      "1           1                  NaN   2011-10-03        3.0    37891   \n",
      "2           2                  NaN   2010-02-24        4.0    88587   \n",
      "3           3                  NaN   2015-08-24        5.0   121650   \n",
      "4           4                  NaN   2019-02-16        6.0   162283   \n",
      "\n",
      "       Price Date_of_Contract   Emp_Name  Emp_SSN Contractor_Name   Cont_SSN  \\\n",
      "0  1063907.0       2000-10-21       Anna      1.0            Mary  4000001.0   \n",
      "1  1381986.0       2000-10-21       Emma      2.0            Anna  4000002.0   \n",
      "2   339553.0       2000-10-21  Elizabeth      3.0            Emma  4000003.0   \n",
      "3  1849411.0       2000-10-21     Minnie      4.0       Elizabeth  4000004.0   \n",
      "4   755588.0       2000-10-21   Margaret      5.0          Minnie  4000005.0   \n",
      "\n",
      "                      Delivery_Location                           Name_Company  \n",
      "0               9007 HIGHLAND RD, STE 9  ciqDzQscRAzPZFxAuJQRVCirDrVjOpBWrLxnZ  \n",
      "1   5830 S SHERWOOD FOREST BLVD, STE A6                     KFqJgCHGVaErlKgdpZ  \n",
      "2  4520 S SHERWOOD FOREST BLVD, STE 103        ukVppMOmkNpJZkERpIqIREwGBNmPzJB  \n",
      "3                 8334 O'HARA CT, STE D                   wXRnxJuvZEnAOFJKmUaU  \n",
      "4               4250 BLOUNT RD, UNIT 14  ajOumJOykLPVbzPznvsvBRLhBseNWNWcsaixK  \n"
     ]
    }
   ],
   "source": [
    "Contracts_df = pd.read_csv('Contracts.csv')\n",
    "print(\"done reading file\")\n",
    "print(Contracts_df.head())"
   ]
  },
  {
   "cell_type": "code",
   "execution_count": 12,
   "metadata": {},
   "outputs": [
    {
     "name": "stdout",
     "output_type": "stream",
     "text": [
      "0\n"
     ]
    }
   ],
   "source": [
    "client = pymongo.MongoClient(\"mongodb://localhost:27017/\")\n",
    "db = client['Project']\n",
    "collection = db['Contracts']\n",
    "\n",
    "listDict = []\n",
    "for i in range(10):\n",
    "    listDict.append(Contracts_df.iloc[i*1000:(i+1)*1000,1:].to_dict(\"records\"))\n",
    "\n",
    "for i in range(10):\n",
    "    collection.insert_many(listDict[i])\n",
    "    if i%100 == 0:\n",
    "        print(i)\n"
   ]
  },
  {
   "cell_type": "code",
   "execution_count": 13,
   "metadata": {},
   "outputs": [
    {
     "name": "stdout",
     "output_type": "stream",
     "text": [
      "done reading file\n",
      "   Unnamed: 0  ESSN  PNO  Hours\n",
      "0           1   1.0  1.0   46.0\n",
      "1           2   2.0  2.0   44.0\n",
      "2           3   3.0  2.0   45.0\n",
      "3           4   4.0  2.0   24.0\n",
      "4           5   5.0  2.0   20.0\n"
     ]
    }
   ],
   "source": [
    "WorksOn_df = pd.read_csv('Works_On.csv')\n",
    "print(\"done reading file\")\n",
    "print(WorksOn_df.head())"
   ]
  },
  {
   "cell_type": "code",
   "execution_count": 14,
   "metadata": {},
   "outputs": [
    {
     "name": "stdout",
     "output_type": "stream",
     "text": [
      "0\n"
     ]
    }
   ],
   "source": [
    "client = pymongo.MongoClient(\"mongodb://localhost:27017/\")\n",
    "db = client['Project']\n",
    "collection = db['Works_On']\n",
    "\n",
    "listDict = []\n",
    "for i in range(10):\n",
    "    listDict.append(WorksOn_df.iloc[i*1000:(i+1)*1000,1:].to_dict(\"records\"))\n",
    "\n",
    "for i in range(10):\n",
    "    collection.insert_many(listDict[i])\n",
    "    if i%100 == 0:\n",
    "        print(i)"
   ]
  },
  {
   "cell_type": "code",
   "execution_count": 15,
   "metadata": {},
   "outputs": [
    {
     "name": "stdout",
     "output_type": "stream",
     "text": [
      "done reading file\n",
      "   Unnamed: 0.1  Unnamed: 0  ESSN                      Dependent_Name  Sex  \\\n",
      "0             0           0   1.0        paZKVTQLByxdXhOCpyxXxLUpiqqj  1.0   \n",
      "1             1           1   2.0       FMQDdqvlxinFUqMVSuGIbqbkLorMc  1.0   \n",
      "2             2           2   3.0            CjuVAbakpmWAYMFsHoCqobKc  2.0   \n",
      "3             3           3   4.0  MmGysbOQtdhSRszpXLMzszspphVNUHeuzT  0.0   \n",
      "4             4           4   5.0                VVXLuargiWnLGulRAkVD  2.0   \n",
      "\n",
      "        Bdate Relationship  \n",
      "0  2019-09-06       Lotlux  \n",
      "1  2001-07-06  Mat Lam Tam  \n",
      "2  2005-08-17     Wrapsafe  \n",
      "3  2001-06-24     Treeflex  \n",
      "4  2017-09-12       Vagram  \n"
     ]
    }
   ],
   "source": [
    "Dependent_df = pd.read_csv('Dependent.csv')\n",
    "print(\"done reading file\")\n",
    "print(Dependent_df.head())"
   ]
  },
  {
   "cell_type": "code",
   "execution_count": 16,
   "metadata": {},
   "outputs": [
    {
     "name": "stdout",
     "output_type": "stream",
     "text": [
      "0\n"
     ]
    }
   ],
   "source": [
    "client = pymongo.MongoClient(\"mongodb://localhost:27017/\")\n",
    "db = client['Project']\n",
    "collection = db['Dependent_']\n",
    "\n",
    "listDict = []\n",
    "for i in range(10):\n",
    "    listDict.append(Dependent_df.iloc[i*1000:(i+1)*1000,1:].to_dict(\"records\"))\n",
    "\n",
    "for i in range(10):\n",
    "    collection.insert_many(listDict[i])\n",
    "    if i%100 == 0:\n",
    "        print(i)"
   ]
  },
  {
   "cell_type": "code",
   "execution_count": 17,
   "metadata": {},
   "outputs": [
    {
     "name": "stdout",
     "output_type": "stream",
     "text": [
      "done reading file\n",
      "   Unnamed: 0  Dnumber                  Dlocation\n",
      "0           1      1.0          10082 E POMONA DR\n",
      "1           2      2.0          16933 TENEIYA AVE\n",
      "2           3      3.0          13630 LANDMARK DR\n",
      "3           4      4.0          11733 SUN BELT CT\n",
      "4           5      5.0  17100-17400 BLACKWATER RD\n"
     ]
    }
   ],
   "source": [
    "DeptLoc_df = pd.read_csv('Dept_Locations.csv')\n",
    "print(\"done reading file\")\n",
    "print(DeptLoc_df.head())"
   ]
  },
  {
   "cell_type": "code",
   "execution_count": 3,
   "metadata": {},
   "outputs": [],
   "source": [
    "client = pymongo.MongoClient(\"mongodb://localhost:27017/\")\n",
    "db = client['Project']\n",
    "collection = db['Dept_Locations']\n"
   ]
  },
  {
   "cell_type": "code",
   "execution_count": null,
   "metadata": {},
   "outputs": [],
   "source": [
    "\n",
    "listDict = []\n",
    "for i in range(10):\n",
    "    listDict.append(DeptLoc_df.iloc[i*1000:(i+1)*1000,1:].to_dict(\"records\"))\n",
    "\n",
    "for i in range(10):\n",
    "    collection.insert_many(listDict[i])\n",
    "    if i%100 == 0:\n",
    "        print(i)"
   ]
  },
  {
   "cell_type": "code",
   "execution_count": 5,
   "metadata": {},
   "outputs": [
    {
     "name": "stderr",
     "output_type": "stream",
     "text": [
      "<>:2: SyntaxWarning: str indices must be integers or slices, not tuple; perhaps you missed a comma?\n",
      "<>:2: SyntaxWarning: str indices must be integers or slices, not tuple; perhaps you missed a comma?\n",
      "C:\\Users\\swak\\AppData\\Local\\Temp\\ipykernel_21200\\3281950770.py:2: SyntaxWarning: str indices must be integers or slices, not tuple; perhaps you missed a comma?\n",
      "  result =collection.aggregate([{\"$lookup\":{\"from\":'Department',\"localField\":'Dnumber',\"foreignField\":'DNO',\"as\":'Dep'}},{\"$lookup\":{\"from\":'Project',\"localField\":'DNO',\"foreignField\":'Dnumber',\"as\":'Pr'}},{\"$match\":{\"$expr\":{\"$and\"[{\"$gt\":['Salary', 5000]},{\"$gt\":[\"Mgr_SSN\", \"SSN\"]}]}}}])\n",
      "C:\\Users\\swak\\AppData\\Local\\Temp\\ipykernel_21200\\3281950770.py:2: SyntaxWarning: str indices must be integers or slices, not tuple; perhaps you missed a comma?\n",
      "  result =collection.aggregate([{\"$lookup\":{\"from\":'Department',\"localField\":'Dnumber',\"foreignField\":'DNO',\"as\":'Dep'}},{\"$lookup\":{\"from\":'Project',\"localField\":'DNO',\"foreignField\":'Dnumber',\"as\":'Pr'}},{\"$match\":{\"$expr\":{\"$and\"[{\"$gt\":['Salary', 5000]},{\"$gt\":[\"Mgr_SSN\", \"SSN\"]}]}}}])\n",
      "C:\\Users\\swak\\AppData\\Local\\Temp\\ipykernel_21200\\3281950770.py:2: SyntaxWarning: str indices must be integers or slices, not tuple; perhaps you missed a comma?\n",
      "  result =collection.aggregate([{\"$lookup\":{\"from\":'Department',\"localField\":'Dnumber',\"foreignField\":'DNO',\"as\":'Dep'}},{\"$lookup\":{\"from\":'Project',\"localField\":'DNO',\"foreignField\":'Dnumber',\"as\":'Pr'}},{\"$match\":{\"$expr\":{\"$and\"[{\"$gt\":['Salary', 5000]},{\"$gt\":[\"Mgr_SSN\", \"SSN\"]}]}}}])\n"
     ]
    },
    {
     "ename": "TypeError",
     "evalue": "string indices must be integers",
     "output_type": "error",
     "traceback": [
      "\u001b[1;31m---------------------------------------------------------------------------\u001b[0m",
      "\u001b[1;31mTypeError\u001b[0m                                 Traceback (most recent call last)",
      "Cell \u001b[1;32mIn[5], line 2\u001b[0m\n\u001b[0;32m      1\u001b[0m collection \u001b[39m=\u001b[39m db[\u001b[39m'\u001b[39m\u001b[39mEmployee\u001b[39m\u001b[39m'\u001b[39m]\n\u001b[1;32m----> 2\u001b[0m result \u001b[39m=\u001b[39mcollection\u001b[39m.\u001b[39maggregate([{\u001b[39m\"\u001b[39m\u001b[39m$lookup\u001b[39m\u001b[39m\"\u001b[39m:{\u001b[39m\"\u001b[39m\u001b[39mfrom\u001b[39m\u001b[39m\"\u001b[39m:\u001b[39m'\u001b[39m\u001b[39mDepartment\u001b[39m\u001b[39m'\u001b[39m,\u001b[39m\"\u001b[39m\u001b[39mlocalField\u001b[39m\u001b[39m\"\u001b[39m:\u001b[39m'\u001b[39m\u001b[39mDnumber\u001b[39m\u001b[39m'\u001b[39m,\u001b[39m\"\u001b[39m\u001b[39mforeignField\u001b[39m\u001b[39m\"\u001b[39m:\u001b[39m'\u001b[39m\u001b[39mDNO\u001b[39m\u001b[39m'\u001b[39m,\u001b[39m\"\u001b[39m\u001b[39mas\u001b[39m\u001b[39m\"\u001b[39m:\u001b[39m'\u001b[39m\u001b[39mDep\u001b[39m\u001b[39m'\u001b[39m}},{\u001b[39m\"\u001b[39m\u001b[39m$lookup\u001b[39m\u001b[39m\"\u001b[39m:{\u001b[39m\"\u001b[39m\u001b[39mfrom\u001b[39m\u001b[39m\"\u001b[39m:\u001b[39m'\u001b[39m\u001b[39mProject\u001b[39m\u001b[39m'\u001b[39m,\u001b[39m\"\u001b[39m\u001b[39mlocalField\u001b[39m\u001b[39m\"\u001b[39m:\u001b[39m'\u001b[39m\u001b[39mDNO\u001b[39m\u001b[39m'\u001b[39m,\u001b[39m\"\u001b[39m\u001b[39mforeignField\u001b[39m\u001b[39m\"\u001b[39m:\u001b[39m'\u001b[39m\u001b[39mDnumber\u001b[39m\u001b[39m'\u001b[39m,\u001b[39m\"\u001b[39m\u001b[39mas\u001b[39m\u001b[39m\"\u001b[39m:\u001b[39m'\u001b[39m\u001b[39mPr\u001b[39m\u001b[39m'\u001b[39m}},{\u001b[39m\"\u001b[39m\u001b[39m$match\u001b[39m\u001b[39m\"\u001b[39m:{\u001b[39m\"\u001b[39m\u001b[39m$expr\u001b[39m\u001b[39m\"\u001b[39m:{\u001b[39m\"\u001b[39;49m\u001b[39m$and\u001b[39;49m\u001b[39m\"\u001b[39;49m[{\u001b[39m\"\u001b[39;49m\u001b[39m$gt\u001b[39;49m\u001b[39m\"\u001b[39;49m:[\u001b[39m'\u001b[39;49m\u001b[39mSalary\u001b[39;49m\u001b[39m'\u001b[39;49m, \u001b[39m5000\u001b[39;49m]},{\u001b[39m\"\u001b[39;49m\u001b[39m$gt\u001b[39;49m\u001b[39m\"\u001b[39;49m:[\u001b[39m\"\u001b[39;49m\u001b[39mMgr_SSN\u001b[39;49m\u001b[39m\"\u001b[39;49m, \u001b[39m\"\u001b[39;49m\u001b[39mSSN\u001b[39;49m\u001b[39m\"\u001b[39;49m]}]}}}])\n",
      "\u001b[1;31mTypeError\u001b[0m: string indices must be integers"
     ]
    }
   ],
   "source": [
    "collection = db['Employee']\n",
    "result =collection.aggregate([{\"$lookup\":{\"from\":'Department',\"localField\":'Dnumber',\"foreignField\":'DNO',\"as\":'Dep'}},{\"$lookup\":{\"from\":'Project',\"localField\":'DNO',\"foreignField\":'Dnumber',\"as\":'Pr'}},{\"$match\":{\"$expr\":{\"$and\"[{\"$gt\":['Salary', 5000]},{\"$gt\":[\"Mgr_SSN\", \"SSN\"]}]}}}])"
   ]
  },
  {
   "cell_type": "code",
   "execution_count": null,
   "metadata": {},
   "outputs": [],
   "source": []
  }
 ],
 "metadata": {
  "kernelspec": {
   "display_name": "cudatorch",
   "language": "python",
   "name": "cudatorch"
  },
  "language_info": {
   "codemirror_mode": {
    "name": "ipython",
    "version": 3
   },
   "file_extension": ".py",
   "mimetype": "text/x-python",
   "name": "python",
   "nbconvert_exporter": "python",
   "pygments_lexer": "ipython3",
   "version": "3.9.1"
  },
  "orig_nbformat": 4,
  "vscode": {
   "interpreter": {
    "hash": "d60fe05ab80fea0afb1a7376ded182976bfead7f5cd417a1edbe8ad0d2cfba3b"
   }
  }
 },
 "nbformat": 4,
 "nbformat_minor": 2
}
