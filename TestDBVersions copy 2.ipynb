{
 "cells": [
  {
   "cell_type": "code",
   "execution_count": 1,
   "metadata": {},
   "outputs": [],
   "source": [
    "another_complex3 = 'select count(SSN) from Employee a, Department b where a.SSN < b.Dnumber and a.Salary < b.Dnumber and b.Mgr_SSN < 80000'\n",
    "\n",
    "another_complex4 = 'select SSN , Salary from Employee a, Department b where a.SSN < b.Dnumber and a.Salary < b.Dnumber and b.Mgr_SSN < 80000 group by Salary, SSN;'\n",
    "\n",
    "\n",
    "another_complex_ayman = 'select DISTINCT Salary, Fname, Dname from Employee e, Department d, Contracts c where e.SSN = c.Emp_SSN and e.DNO = d.Dnumber'\n",
    "\n",
    "\n",
    "another_complex_ayman2 = \"select * from Employee as e cross join Contracts as c, Project as p where e.Salary > 5000 and e.SSN = c.Emp_SSN and p.DNO > 1;\""
   ]
  },
  {
   "cell_type": "code",
   "execution_count": 2,
   "metadata": {},
   "outputs": [],
   "source": [
    "import pandas as pd\n",
    "import pyodbc\n",
    "import numpy as np\n",
    "import random\n",
    "from tqdm import tqdm\n",
    "from datetime import datetime\n",
    "\n"
   ]
  },
  {
   "cell_type": "code",
   "execution_count": 3,
   "metadata": {},
   "outputs": [
    {
     "name": "stdout",
     "output_type": "stream",
     "text": [
      "2.263041\n"
     ]
    }
   ],
   "source": [
    "\n",
    "server = 'LAPTOP-66BOPJMV\\SQLEXPRESS'\n",
    "database = 'Brokerage_Firm_10k'\n",
    "\n",
    "connection = pyodbc.connect('DRIVER={ODBC Driver 17 for SQL Server};\\\n",
    "                            server='+server+';\\\n",
    "                            database='+database+';\\\n",
    "                            trusted_connection=yes;')\n",
    "cursor = connection.cursor()\n",
    "\n",
    "\n",
    "before = datetime.now()\n",
    "cursor.execute(another_complex3)\n",
    "after = datetime.now()\n",
    "\n",
    "\n",
    "timeDiff = after - before\n",
    "print(timeDiff.total_seconds())\n",
    "\n"
   ]
  },
  {
   "cell_type": "code",
   "execution_count": 4,
   "metadata": {},
   "outputs": [
    {
     "name": "stdout",
     "output_type": "stream",
     "text": [
      "264.23723\n"
     ]
    }
   ],
   "source": [
    "\n",
    "server = 'LAPTOP-66BOPJMV\\SQLEXPRESS'\n",
    "database = 'Brokerage_Firm_100k'\n",
    "\n",
    "connection = pyodbc.connect('DRIVER={ODBC Driver 17 for SQL Server};\\\n",
    "                            server='+server+';\\\n",
    "                            database='+database+';\\\n",
    "                            trusted_connection=yes;')\n",
    "cursor = connection.cursor()\n",
    "\n",
    "\n",
    "\n",
    "\n",
    "before = datetime.now()\n",
    "cursor.execute(another_complex3)\n",
    "after = datetime.now()\n",
    "\n",
    "\n",
    "timeDiff = after - before\n",
    "print(timeDiff.total_seconds())"
   ]
  },
  {
   "cell_type": "code",
   "execution_count": 5,
   "metadata": {},
   "outputs": [],
   "source": [
    "\n",
    "server = 'LAPTOP-66BOPJMV\\SQLEXPRESS'\n",
    "database = 'Brokerage_Firm_1M'\n",
    "\n",
    "connection = pyodbc.connect('DRIVER={ODBC Driver 17 for SQL Server};\\\n",
    "                            server='+server+';\\\n",
    "                            database='+database+';\\\n",
    "                            trusted_connection=yes;')\n",
    "cursor = connection.cursor()\n",
    "\n",
    "\n",
    "\n",
    "before = datetime.now()\n",
    "cursor.execute(another_complex3)\n",
    "after = datetime.now()\n",
    "\n",
    "\n",
    "timeDiff = after - before\n",
    "print(timeDiff.total_seconds())"
   ]
  },
  {
   "cell_type": "code",
   "execution_count": null,
   "metadata": {},
   "outputs": [],
   "source": [
    "\n",
    "server = 'LAPTOP-66BOPJMV\\SQLEXPRESS'\n",
    "database = 'Brokerage_Firm'\n",
    "\n",
    "connection = pyodbc.connect('DRIVER={ODBC Driver 17 for SQL Server};\\\n",
    "                            server='+server+';\\\n",
    "                            database='+database+';\\\n",
    "                            trusted_connection=yes;')\n",
    "cursor = connection.cursor()\n",
    "\n",
    "\n",
    "\n",
    "\n",
    "before = datetime.now()\n",
    "cursor.execute(another_complex3)\n",
    "after = datetime.now()\n",
    "\n",
    "\n",
    "timeDiff = after - before\n",
    "print(timeDiff.total_seconds())"
   ]
  },
  {
   "cell_type": "code",
   "execution_count": null,
   "metadata": {},
   "outputs": [],
   "source": []
  },
  {
   "cell_type": "code",
   "execution_count": 3,
   "metadata": {},
   "outputs": [
    {
     "name": "stdout",
     "output_type": "stream",
     "text": [
      "0.112985\n"
     ]
    }
   ],
   "source": [
    "\n",
    "server = 'LAPTOP-66BOPJMV\\SQLEXPRESS'\n",
    "database = 'Brokerage_Firm_10k'\n",
    "\n",
    "connection = pyodbc.connect('DRIVER={ODBC Driver 17 for SQL Server};\\\n",
    "                            server='+server+';\\\n",
    "                            database='+database+';\\\n",
    "                            trusted_connection=yes;')\n",
    "cursor = connection.cursor()\n",
    "\n",
    "\n",
    "before = datetime.now()\n",
    "cursor.execute(another_complex_ayman)\n",
    "after = datetime.now()\n",
    "\n",
    "\n",
    "timeDiff = after - before\n",
    "print(timeDiff.total_seconds())"
   ]
  },
  {
   "cell_type": "code",
   "execution_count": 27,
   "metadata": {},
   "outputs": [
    {
     "name": "stdout",
     "output_type": "stream",
     "text": [
      "0.090999\n"
     ]
    }
   ],
   "source": [
    "\n",
    "server = 'LAPTOP-66BOPJMV\\SQLEXPRESS'\n",
    "database = 'Brokerage_Firm_100k'\n",
    "\n",
    "connection = pyodbc.connect('DRIVER={ODBC Driver 17 for SQL Server};\\\n",
    "                            server='+server+';\\\n",
    "                            database='+database+';\\\n",
    "                            trusted_connection=yes;')\n",
    "cursor = connection.cursor()\n",
    "\n",
    "\n",
    "before = datetime.now()\n",
    "cursor.execute(another_complex_ayman)\n",
    "after = datetime.now()\n",
    "\n",
    "\n",
    "timeDiff = after - before\n",
    "print(timeDiff.total_seconds())"
   ]
  },
  {
   "cell_type": "code",
   "execution_count": 5,
   "metadata": {},
   "outputs": [
    {
     "name": "stdout",
     "output_type": "stream",
     "text": [
      "0.930993\n"
     ]
    }
   ],
   "source": [
    "\n",
    "server = 'LAPTOP-66BOPJMV\\SQLEXPRESS'\n",
    "database = 'Brokerage_Firm_1M'\n",
    "\n",
    "connection = pyodbc.connect('DRIVER={ODBC Driver 17 for SQL Server};\\\n",
    "                            server='+server+';\\\n",
    "                            database='+database+';\\\n",
    "                            trusted_connection=yes;')\n",
    "cursor = connection.cursor()\n",
    "\n",
    "\n",
    "before = datetime.now()\n",
    "cursor.execute(another_complex_ayman)\n",
    "after = datetime.now()\n",
    "\n",
    "\n",
    "timeDiff = after - before\n",
    "print(timeDiff.total_seconds())"
   ]
  },
  {
   "cell_type": "code",
   "execution_count": 6,
   "metadata": {},
   "outputs": [
    {
     "name": "stdout",
     "output_type": "stream",
     "text": [
      "7.106034\n"
     ]
    }
   ],
   "source": [
    "server = 'LAPTOP-66BOPJMV\\SQLEXPRESS'\n",
    "database = 'Brokerage_Firm'\n",
    "\n",
    "connection = pyodbc.connect('DRIVER={ODBC Driver 17 for SQL Server};\\\n",
    "                            server='+server+';\\\n",
    "                            database='+database+';\\\n",
    "                            trusted_connection=yes;')\n",
    "cursor = connection.cursor()\n",
    "\n",
    "\n",
    "before = datetime.now()\n",
    "cursor.execute(another_complex_ayman)\n",
    "after = datetime.now()\n",
    "\n",
    "\n",
    "timeDiff = after - before\n",
    "print(timeDiff.total_seconds())"
   ]
  },
  {
   "cell_type": "code",
   "execution_count": null,
   "metadata": {},
   "outputs": [],
   "source": []
  },
  {
   "cell_type": "code",
   "execution_count": 10,
   "metadata": {},
   "outputs": [
    {
     "name": "stdout",
     "output_type": "stream",
     "text": [
      "0.066999\n"
     ]
    }
   ],
   "source": [
    "server = 'LAPTOP-66BOPJMV\\SQLEXPRESS'\n",
    "database = 'Brokerage_Firm_10k'\n",
    "\n",
    "connection = pyodbc.connect('DRIVER={ODBC Driver 17 for SQL Server};\\\n",
    "                            server='+server+';\\\n",
    "                            database='+database+';\\\n",
    "                            trusted_connection=yes;')\n",
    "cursor = connection.cursor()\n",
    "\n",
    "\n",
    "before = datetime.now()\n",
    "cursor.execute(another_complex_ayman2)\n",
    "after = datetime.now()\n",
    "\n",
    "\n",
    "timeDiff = after - before\n",
    "print(timeDiff.total_seconds())"
   ]
  },
  {
   "cell_type": "code",
   "execution_count": 11,
   "metadata": {},
   "outputs": [
    {
     "name": "stdout",
     "output_type": "stream",
     "text": [
      "0.795001\n"
     ]
    }
   ],
   "source": [
    "server = 'LAPTOP-66BOPJMV\\SQLEXPRESS'\n",
    "database = 'Brokerage_Firm_100k'\n",
    "\n",
    "connection = pyodbc.connect('DRIVER={ODBC Driver 17 for SQL Server};\\\n",
    "                            server='+server+';\\\n",
    "                            database='+database+';\\\n",
    "                            trusted_connection=yes;')\n",
    "cursor = connection.cursor()\n",
    "\n",
    "\n",
    "before = datetime.now()\n",
    "cursor.execute(another_complex_ayman2)\n",
    "after = datetime.now()\n",
    "\n",
    "\n",
    "timeDiff = after - before\n",
    "print(timeDiff.total_seconds())"
   ]
  },
  {
   "cell_type": "code",
   "execution_count": 26,
   "metadata": {},
   "outputs": [
    {
     "name": "stdout",
     "output_type": "stream",
     "text": [
      "0.0\n"
     ]
    }
   ],
   "source": [
    "server = 'LAPTOP-66BOPJMV\\SQLEXPRESS'\n",
    "database = 'Brokerage_Firm_1M'\n",
    "\n",
    "connection = pyodbc.connect('DRIVER={ODBC Driver 17 for SQL Server};\\\n",
    "                            server='+server+';\\\n",
    "                            database='+database+';\\\n",
    "                            trusted_connection=yes;')\n",
    "cursor = connection.cursor()\n",
    "\n",
    "\n",
    "before = datetime.now()\n",
    "cursor.execute(another_complex_ayman2)\n",
    "after = datetime.now()\n",
    "\n",
    "\n",
    "timeDiff = after - before\n",
    "print(timeDiff.total_seconds())"
   ]
  },
  {
   "cell_type": "code",
   "execution_count": 28,
   "metadata": {},
   "outputs": [
    {
     "name": "stdout",
     "output_type": "stream",
     "text": [
      "1.181997\n"
     ]
    }
   ],
   "source": [
    "server = 'LAPTOP-66BOPJMV\\SQLEXPRESS'\n",
    "database = 'Brokerage_Firm'\n",
    "\n",
    "connection = pyodbc.connect('DRIVER={ODBC Driver 17 for SQL Server};\\\n",
    "                            server='+server+';\\\n",
    "                            database='+database+';\\\n",
    "                            trusted_connection=yes;')\n",
    "cursor = connection.cursor()\n",
    "\n",
    "\n",
    "before = datetime.now()\n",
    "cursor.execute(another_complex_ayman2)\n",
    "after = datetime.now()\n",
    "\n",
    "\n",
    "timeDiff = after - before\n",
    "print(timeDiff.total_seconds())"
   ]
  },
  {
   "cell_type": "code",
   "execution_count": 29,
   "metadata": {},
   "outputs": [
    {
     "name": "stdout",
     "output_type": "stream",
     "text": [
      "2.354001\n"
     ]
    }
   ],
   "source": [
    "server = 'LAPTOP-66BOPJMV\\SQLEXPRESS'\n",
    "database = 'Brokerage_Firm_10k'\n",
    "\n",
    "connection = pyodbc.connect('DRIVER={ODBC Driver 17 for SQL Server};\\\n",
    "                            server='+server+';\\\n",
    "                            database='+database+';\\\n",
    "                            trusted_connection=yes;')\n",
    "cursor = connection.cursor()\n",
    "\n",
    "\n",
    "before = datetime.now()\n",
    "cursor.execute(another_complex4)\n",
    "after = datetime.now()\n",
    "\n",
    "\n",
    "timeDiff = after - before\n",
    "print(timeDiff.total_seconds())"
   ]
  },
  {
   "cell_type": "code",
   "execution_count": 30,
   "metadata": {},
   "outputs": [
    {
     "name": "stdout",
     "output_type": "stream",
     "text": [
      "224.167777\n"
     ]
    }
   ],
   "source": [
    "server = 'LAPTOP-66BOPJMV\\SQLEXPRESS'\n",
    "database = 'Brokerage_Firm_100k'\n",
    "\n",
    "connection = pyodbc.connect('DRIVER={ODBC Driver 17 for SQL Server};\\\n",
    "                            server='+server+';\\\n",
    "                            database='+database+';\\\n",
    "                            trusted_connection=yes;')\n",
    "cursor = connection.cursor()\n",
    "\n",
    "\n",
    "before = datetime.now()\n",
    "cursor.execute(another_complex4)\n",
    "after = datetime.now()\n",
    "\n",
    "\n",
    "timeDiff = after - before\n",
    "print(timeDiff.total_seconds())"
   ]
  },
  {
   "cell_type": "code",
   "execution_count": null,
   "metadata": {},
   "outputs": [],
   "source": [
    "server = 'LAPTOP-66BOPJMV\\SQLEXPRESS'\n",
    "database = 'Brokerage_Firm_1M'\n",
    "\n",
    "connection = pyodbc.connect('DRIVER={ODBC Driver 17 for SQL Server};\\\n",
    "                            server='+server+';\\\n",
    "                            database='+database+';\\\n",
    "                            trusted_connection=yes;')\n",
    "cursor = connection.cursor()\n",
    "\n",
    "\n",
    "before = datetime.now()\n",
    "cursor.execute(another_complex4)\n",
    "after = datetime.now()\n",
    "\n",
    "\n",
    "timeDiff = after - before\n",
    "print(timeDiff.total_seconds())"
   ]
  },
  {
   "cell_type": "code",
   "execution_count": 3,
   "metadata": {},
   "outputs": [
    {
     "data": {
      "text/plain": [
       "'\\nmongoQuery = \"                                                                       \\nProject.Employee.aggregate([\\n    {\\n        $lookup:{\\n            from:\\'Department\\',\\n            localField:\\'Dnumber\\',\\n            foreignField:\\'DNO\\',\\n            as:\\'Dep\\'\\n        }\\n    },\\n\\n    {\\n        $lookup:{\\n            from:\\'Project\\',\\n            localField:\\'DNO\\',\\n            foreignField:\\'Dnumber\\',\\n            as:\\'Pr\\'\\n        }\\n    },\\n    {\\n        $match:{\\n            $expr:{\\n                $and[\\n                    {$gt:[\\'Salary\\', 5000]},\\n                    {$gt:[Mgr_SSN, SSN]}\\n                ]\\n            }\\n        }\\n    }\\n])\\n\"\\n'"
      ]
     },
     "execution_count": 3,
     "metadata": {},
     "output_type": "execute_result"
    }
   ],
   "source": [
    "#CELLS BELLOW THIS IS AFTER APPLYING INDEX AND/OR OPTIMIZATIONS\n",
    "\n",
    "#WE OPTIMIZE THose QUERies\n",
    "\n",
    "another_complex3 = 'select count(SSN) from Employee a, Department b where a.SSN < b.Dnumber and a.Salary < b.Dnumber and b.Mgr_SSN < 80000'\n",
    "\n",
    "another_complex4 = 'select SSN , Salary from Employee a, Department b where a.SSN < b.Dnumber and a.Salary < b.Dnumber and b.Mgr_SSN < 80000 group by Salary, SSN;'\n",
    "\n",
    "\n",
    "another_complex3_OPT = 'select SSN from (select SSN from Employee) as a inner join (select Dnumber from Department)as b on a.SSN < b.Dnumber inner join (select Dnumber, Mgr_SSN from Department) as d on a.Salary < d.Dnumber where d.Mgr_SSN < 80000'\n",
    "\n",
    "another_complex4_OPT = 'select SSN, Salary from (Select SSN, Salary from Employee)as a inner join (select Dnumber, Mgr_SSN from Department where Mgr_SSN < 80000)as b on a.SSN < b.Dnumber group by Salary, SSN'\n",
    "\n",
    "'''\n",
    "mongoQuery = \"                                                                       \n",
    "Project.Employee.aggregate([\n",
    "    {\n",
    "        $lookup:{\n",
    "            from:'Department',\n",
    "            localField:'Dnumber',\n",
    "            foreignField:'DNO',\n",
    "            as:'Dep'\n",
    "        }\n",
    "    },\n",
    "\n",
    "    {\n",
    "        $lookup:{\n",
    "            from:'Project',\n",
    "            localField:'DNO',\n",
    "            foreignField:'Dnumber',\n",
    "            as:'Pr'\n",
    "        }\n",
    "    },\n",
    "    {\n",
    "        $match:{\n",
    "            $expr:{\n",
    "                $and[\n",
    "                    {$gt:['Salary', 5000]},\n",
    "                    {$gt:[Mgr_SSN, SSN]}\n",
    "                ]\n",
    "            }\n",
    "        }\n",
    "    }\n",
    "])\n",
    "\"\n",
    "'''\n",
    "\n"
   ]
  },
  {
   "cell_type": "code",
   "execution_count": 14,
   "metadata": {},
   "outputs": [
    {
     "name": "stdout",
     "output_type": "stream",
     "text": [
      "0.005024\n"
     ]
    }
   ],
   "source": [
    "server = 'LAPTOP-66BOPJMV\\SQLEXPRESS'\n",
    "database = 'Brokerage_Firm_10k'\n",
    "\n",
    "connection = pyodbc.connect('DRIVER={ODBC Driver 17 for SQL Server};\\\n",
    "                            server='+server+';\\\n",
    "                            database='+database+';\\\n",
    "                            trusted_connection=yes;')\n",
    "cursor = connection.cursor()\n",
    "\n",
    "\n",
    "before = datetime.now()\n",
    "cursor.execute(another_complex4_OPT)\n",
    "after = datetime.now()\n",
    "\n",
    "\n",
    "timeDiff = after - before\n",
    "print(timeDiff.total_seconds())"
   ]
  },
  {
   "cell_type": "code",
   "execution_count": 15,
   "metadata": {},
   "outputs": [
    {
     "name": "stdout",
     "output_type": "stream",
     "text": [
      "0.005001\n"
     ]
    }
   ],
   "source": [
    "server = 'LAPTOP-66BOPJMV\\SQLEXPRESS'\n",
    "database = 'Brokerage_Firm_100k'\n",
    "\n",
    "connection = pyodbc.connect('DRIVER={ODBC Driver 17 for SQL Server};\\\n",
    "                            server='+server+';\\\n",
    "                            database='+database+';\\\n",
    "                            trusted_connection=yes;')\n",
    "cursor = connection.cursor()\n",
    "\n",
    "\n",
    "before = datetime.now()\n",
    "cursor.execute(another_complex4_OPT)\n",
    "after = datetime.now()\n",
    "\n",
    "\n",
    "timeDiff = after - before\n",
    "print(timeDiff.total_seconds())"
   ]
  },
  {
   "cell_type": "code",
   "execution_count": 16,
   "metadata": {},
   "outputs": [
    {
     "name": "stdout",
     "output_type": "stream",
     "text": [
      "0.00499\n"
     ]
    }
   ],
   "source": [
    "server = 'LAPTOP-66BOPJMV\\SQLEXPRESS'\n",
    "database = 'Brokerage_Firm_1M'\n",
    "\n",
    "connection = pyodbc.connect('DRIVER={ODBC Driver 17 for SQL Server};\\\n",
    "                            server='+server+';\\\n",
    "                            database='+database+';\\\n",
    "                            trusted_connection=yes;')\n",
    "cursor = connection.cursor()\n",
    "\n",
    "\n",
    "before = datetime.now()\n",
    "cursor.execute(another_complex4_OPT)\n",
    "after = datetime.now()\n",
    "\n",
    "\n",
    "timeDiff = after - before\n",
    "print(timeDiff.total_seconds())"
   ]
  },
  {
   "cell_type": "code",
   "execution_count": 17,
   "metadata": {},
   "outputs": [],
   "source": [
    "#WE WILL NOW PUT AN INDEX ON FIELD SALARY,\n",
    "#THEN EXECUTE QUERY 3 AGAIN"
   ]
  },
  {
   "cell_type": "code",
   "execution_count": 4,
   "metadata": {},
   "outputs": [
    {
     "name": "stdout",
     "output_type": "stream",
     "text": [
      "2.599049\n"
     ]
    }
   ],
   "source": [
    "server = 'LAPTOP-66BOPJMV\\SQLEXPRESS'\n",
    "database = 'Brokerage_Firm_10k'\n",
    "\n",
    "connection = pyodbc.connect('DRIVER={ODBC Driver 17 for SQL Server};\\\n",
    "                            server='+server+';\\\n",
    "                            database='+database+';\\\n",
    "                            trusted_connection=yes;')\n",
    "cursor = connection.cursor()\n",
    "\n",
    "\n",
    "before = datetime.now()\n",
    "cursor.execute(another_complex4)\n",
    "after = datetime.now()\n",
    "\n",
    "\n",
    "timeDiff = after - before\n",
    "print(timeDiff.total_seconds())"
   ]
  },
  {
   "cell_type": "code",
   "execution_count": 5,
   "metadata": {},
   "outputs": [
    {
     "name": "stdout",
     "output_type": "stream",
     "text": [
      "1.94004\n"
     ]
    }
   ],
   "source": [
    "server = 'LAPTOP-66BOPJMV\\SQLEXPRESS'\n",
    "database = 'Brokerage_Firm_100k'\n",
    "\n",
    "connection = pyodbc.connect('DRIVER={ODBC Driver 17 for SQL Server};\\\n",
    "                            server='+server+';\\\n",
    "                            database='+database+';\\\n",
    "                            trusted_connection=yes;')\n",
    "cursor = connection.cursor()\n",
    "\n",
    "\n",
    "before = datetime.now()\n",
    "cursor.execute(another_complex4)\n",
    "after = datetime.now()\n",
    "\n",
    "\n",
    "timeDiff = after - before\n",
    "print(timeDiff.total_seconds())"
   ]
  },
  {
   "cell_type": "code",
   "execution_count": 6,
   "metadata": {},
   "outputs": [],
   "source": [
    "server = 'LAPTOP-66BOPJMV\\SQLEXPRESS'\n",
    "database = 'Brokerage_Firm_1M'\n",
    "\n",
    "connection = pyodbc.connect('DRIVER={ODBC Driver 17 for SQL Server};\\\n",
    "                            server='+server+';\\\n",
    "                            database='+database+';\\\n",
    "                            trusted_connection=yes;')\n",
    "cursor = connection.cursor()\n",
    "\n",
    "\n",
    "before = datetime.now()\n",
    "cursor.execute(another_complex4)\n",
    "after = datetime.now()\n",
    "\n",
    "\n",
    "timeDiff = after - before\n",
    "print(timeDiff.total_seconds())"
   ]
  },
  {
   "cell_type": "code",
   "execution_count": 4,
   "metadata": {},
   "outputs": [],
   "source": [
    "server = 'LAPTOP-66BOPJMV\\SQLEXPRESS'\n",
    "database = 'Brokerage_Firm'\n",
    "\n",
    "connection = pyodbc.connect('DRIVER={ODBC Driver 17 for SQL Server};\\\n",
    "                            server='+server+';\\\n",
    "                            database='+database+';\\\n",
    "                            trusted_connection=yes;')\n",
    "cursor = connection.cursor()\n",
    "\n",
    "\n",
    "before = datetime.now()\n",
    "cursor.execute(another_complex4)\n",
    "after = datetime.now()\n",
    "\n",
    "\n",
    "timeDiff = after - before\n",
    "print(timeDiff.total_seconds())"
   ]
  },
  {
   "cell_type": "code",
   "execution_count": null,
   "metadata": {},
   "outputs": [],
   "source": []
  }
 ],
 "metadata": {
  "kernelspec": {
   "display_name": "Python 3",
   "language": "python",
   "name": "python3"
  },
  "language_info": {
   "codemirror_mode": {
    "name": "ipython",
    "version": 3
   },
   "file_extension": ".py",
   "mimetype": "text/x-python",
   "name": "python",
   "nbconvert_exporter": "python",
   "pygments_lexer": "ipython3",
   "version": "3.10.1 (tags/v3.10.1:2cd268a, Dec  6 2021, 19:10:37) [MSC v.1929 64 bit (AMD64)]"
  },
  "orig_nbformat": 4,
  "vscode": {
   "interpreter": {
    "hash": "d60fe05ab80fea0afb1a7376ded182976bfead7f5cd417a1edbe8ad0d2cfba3b"
   }
  }
 },
 "nbformat": 4,
 "nbformat_minor": 2
}
