{
 "cells": [
  {
   "cell_type": "code",
   "execution_count": 1,
   "metadata": {},
   "outputs": [],
   "source": [
    "#FIRST of all, install SSMS (SQL Server MicroSoft)\n",
    "#Second of all, open the SQLQuery1.sql file in SqlServer\n",
    "#Thrid of all, highlight ONLY the first command (create database Brokerage) then click Execute\n",
    "#Fourth of all, highlight the rest of the file lines then click Execute.\n",
    "#by now you should have the database and schema set and done\n",
    "\n",
    "#now you will need to populate it with data\n",
    "\n",
    "#Fifth of all, install pyodbc (nice library btw)\n",
    "\n",
    "#you will then want to connect your database to the ODBC:\n",
    "#   1) open SQL Server\n",
    "#   2) right click on the very first element in object explorer (which is your device obvs)\n",
    "#   3) choose connect\n",
    "#   4) copy the server name\n",
    "#   5) paste it in the server string below\n",
    "\n",
    "\n",
    "#Sixth of all, just run everything below and enjoy :)\n",
    "\n",
    "#OPTIONAL : you don't need to know how to generate the report file, it is so ez though\n",
    "#   just open SSMS\n",
    "#   Select the database \"Brokerage\"\n",
    "#   Right click and select Reports then Standard Reports\n",
    "#   Select any of the reports than seems interesting"
   ]
  },
  {
   "cell_type": "markdown",
   "metadata": {},
   "source": []
  },
  {
   "cell_type": "code",
   "execution_count": 1,
   "metadata": {},
   "outputs": [],
   "source": [
    "import pandas as pd\n",
    "import pyodbc\n",
    "import random"
   ]
  },
  {
   "cell_type": "code",
   "execution_count": 10,
   "metadata": {},
   "outputs": [],
   "source": [
    "#DELETE THIS AFTER EXECUTION\n",
    "\n",
    "\n",
    "\n",
    "Address_df = pd.read_csv('Street_Address_Listing.csv')\n",
    "while (len(Address_df) < 1000000):\n",
    "    Address_df = Address_df.append(Address_df)\n",
    "\n",
    "Address_df.to_csv('Address.csv')"
   ]
  },
  {
   "cell_type": "code",
   "execution_count": 12,
   "metadata": {},
   "outputs": [],
   "source": [
    "#DELETE THIS AFTER EXECUTION\n",
    "\n",
    "names_df = pd.read_csv('NationalNames.csv')\n",
    "while (len(names_df) < 1000000):\n",
    "    names_df = names_df.append(names_df)\n",
    "\n",
    "names_df.to_csv('Names.csv')\n",
    "\n",
    "Department_df = pd.read_csv('2019_free_title_data.csv')\n",
    "while(len(Department_df)<1000000):\n",
    "    Department_df = Department_df.append(Department_df)\n",
    "Department_df.to_csv('Jobs.csv')"
   ]
  },
  {
   "cell_type": "code",
   "execution_count": 2,
   "metadata": {},
   "outputs": [],
   "source": [
    "#Helper Functions\n",
    "\n",
    "\n",
    "\n",
    "alphabet = list('abcdefghijklmnopqrstuvwxyzABCDEFGHIJKLMNOPQRSTUVWXYZ')\n",
    "alphabetdig = list('abcdefghijklmnopqrstuvwxyzABCDEFGHIJKLMNOPQRSTUVWXYZ123456789')\n",
    "\n",
    "\n",
    "#to return a random Department Name\n",
    "def GenerateRandName(digits):\n",
    "    Random_dept_name = []\n",
    "    randlength = random.choice(range(2,30))\n",
    "    while len(Random_dept_name) < randlength:\n",
    "        if(digits):\n",
    "            Random_dept_name.append(random.choice(alphabetdig))\n",
    "        else:\n",
    "            Random_dept_name.append(random.choice(alphabet))\n",
    "    return ''.join(map(str,Random_dept_name))\n",
    "\n",
    "def GenerateRandomDate():\n",
    "    randDay = random.choice(range(1,29))\n",
    "    randMonth = random.choice(range(1,12))\n",
    "    randYear = random.choice(range(2000,2023))\n",
    "    return pd.to_datetime(str(randDay) + \"/\"+str(randMonth)+\"/\"+str(randYear))\n"
   ]
  },
  {
   "cell_type": "code",
   "execution_count": 3,
   "metadata": {},
   "outputs": [],
   "source": [
    "names_df = pd.read_csv('Names.csv')\n",
    "Address_df = pd.read_csv('Address.csv')\n",
    "df = pd.read_csv('Employee.csv')\n",
    "Project_df = pd.read_csv('Project.csv')\n",
    "DeptLoc_df = pd.read_csv('Dept_Locations.csv')\n",
    "\n",
    "location_pd = pd.read_csv('Address.csv')\n",
    "\n",
    "Contract_df = pd.read_csv('Contracts.csv')\n",
    "jobs_df = pd.read_csv('Jobs.csv')\n",
    "\n"
   ]
  },
  {
   "cell_type": "code",
   "execution_count": 3,
   "metadata": {},
   "outputs": [
    {
     "name": "stdout",
     "output_type": "stream",
     "text": [
      "SQL Server\n",
      "SQL Server Native Client 11.0\n",
      "SQL Server Native Client RDA 11.0\n",
      "ODBC Driver 17 for SQL Server\n",
      "Microsoft Access Driver (*.mdb, *.accdb)\n",
      "Microsoft Excel Driver (*.xls, *.xlsx, *.xlsm, *.xlsb)\n",
      "Microsoft Access Text Driver (*.txt, *.csv)\n"
     ]
    }
   ],
   "source": [
    "for driver in pyodbc.drivers():\n",
    "    print(driver)"
   ]
  },
  {
   "cell_type": "code",
   "execution_count": 2,
   "metadata": {},
   "outputs": [],
   "source": [
    "df = pd.read_csv('MOCK_DATA.csv')\n",
    "#Columns in the CSV : first_name Minit last_name Address gender BDate Salary\n",
    "#attributes in our database: Fname Minit Lname Bdate Address_ Sex Salary\n",
    "#print(df['first_name'])\n",
    "\n",
    "#for i in range(1000):\n",
    "#    df.loc[i,'Minit'] = random.choice(alphabet)\n",
    "#df.to_csv('MOCK_DATA.csv')\n",
    "\n",
    "#print(df.iloc[:,:].values.tolist())\n"
   ]
  },
  {
   "cell_type": "code",
   "execution_count": 20,
   "metadata": {},
   "outputs": [
    {
     "name": "stdout",
     "output_type": "stream",
     "text": [
      "0\n"
     ]
    },
    {
     "ename": "KeyboardInterrupt",
     "evalue": "",
     "output_type": "error",
     "traceback": [
      "\u001b[1;31m---------------------------------------------------------------------------\u001b[0m",
      "\u001b[1;31mKeyboardInterrupt\u001b[0m                         Traceback (most recent call last)",
      "\u001b[1;32m<ipython-input-20-0d1dd23dd7da>\u001b[0m in \u001b[0;36m<module>\u001b[1;34m\u001b[0m\n\u001b[0;32m      3\u001b[0m \u001b[0mdf\u001b[0m \u001b[1;33m=\u001b[0m \u001b[0mpd\u001b[0m\u001b[1;33m.\u001b[0m\u001b[0mDataFrame\u001b[0m\u001b[1;33m(\u001b[0m\u001b[1;33m)\u001b[0m\u001b[1;33m\u001b[0m\u001b[1;33m\u001b[0m\u001b[0m\n\u001b[0;32m      4\u001b[0m \u001b[1;32mfor\u001b[0m \u001b[0mi\u001b[0m \u001b[1;32min\u001b[0m \u001b[0mrange\u001b[0m\u001b[1;33m(\u001b[0m\u001b[1;36m3000000\u001b[0m\u001b[1;33m)\u001b[0m\u001b[1;33m:\u001b[0m\u001b[1;33m\u001b[0m\u001b[1;33m\u001b[0m\u001b[0m\n\u001b[1;32m----> 5\u001b[1;33m     \u001b[0mdf\u001b[0m\u001b[1;33m.\u001b[0m\u001b[0mloc\u001b[0m\u001b[1;33m[\u001b[0m\u001b[0mi\u001b[0m\u001b[1;33m,\u001b[0m \u001b[1;34m'first_name'\u001b[0m\u001b[1;33m]\u001b[0m \u001b[1;33m=\u001b[0m \u001b[0mnames_df\u001b[0m\u001b[1;33m.\u001b[0m\u001b[0mloc\u001b[0m\u001b[1;33m[\u001b[0m\u001b[0mi\u001b[0m\u001b[1;33m%\u001b[0m\u001b[1;36m1000000\u001b[0m\u001b[1;33m,\u001b[0m \u001b[1;34m'Name'\u001b[0m\u001b[1;33m]\u001b[0m\u001b[1;33m\u001b[0m\u001b[1;33m\u001b[0m\u001b[0m\n\u001b[0m\u001b[0;32m      6\u001b[0m     \u001b[0mdf\u001b[0m\u001b[1;33m.\u001b[0m\u001b[0mloc\u001b[0m\u001b[1;33m[\u001b[0m\u001b[0mi\u001b[0m\u001b[1;33m,\u001b[0m \u001b[1;34m'Minit'\u001b[0m\u001b[1;33m]\u001b[0m \u001b[1;33m=\u001b[0m \u001b[0malphabet\u001b[0m\u001b[1;33m[\u001b[0m\u001b[0mi\u001b[0m\u001b[1;33m%\u001b[0m\u001b[1;36m27\u001b[0m\u001b[1;33m]\u001b[0m\u001b[1;33m\u001b[0m\u001b[1;33m\u001b[0m\u001b[0m\n\u001b[0;32m      7\u001b[0m     \u001b[0mdf\u001b[0m\u001b[1;33m.\u001b[0m\u001b[0mloc\u001b[0m\u001b[1;33m[\u001b[0m\u001b[0mi\u001b[0m\u001b[1;33m,\u001b[0m \u001b[1;34m'last_name'\u001b[0m\u001b[1;33m]\u001b[0m \u001b[1;33m=\u001b[0m \u001b[0mnames_df\u001b[0m\u001b[1;33m.\u001b[0m\u001b[0mloc\u001b[0m\u001b[1;33m[\u001b[0m\u001b[1;33m(\u001b[0m\u001b[0mi\u001b[0m\u001b[1;33m+\u001b[0m\u001b[1;36m1\u001b[0m\u001b[1;33m)\u001b[0m\u001b[1;33m%\u001b[0m\u001b[1;36m1000000\u001b[0m\u001b[1;33m,\u001b[0m \u001b[1;34m'Name'\u001b[0m\u001b[1;33m]\u001b[0m\u001b[1;33m\u001b[0m\u001b[1;33m\u001b[0m\u001b[0m\n",
      "\u001b[1;32mc:\\Users\\swak\\anaconda3\\lib\\site-packages\\pandas\\core\\indexing.py\u001b[0m in \u001b[0;36m__setitem__\u001b[1;34m(self, key, value)\u001b[0m\n\u001b[0;32m    690\u001b[0m \u001b[1;33m\u001b[0m\u001b[0m\n\u001b[0;32m    691\u001b[0m         \u001b[0miloc\u001b[0m \u001b[1;33m=\u001b[0m \u001b[0mself\u001b[0m \u001b[1;32mif\u001b[0m \u001b[0mself\u001b[0m\u001b[1;33m.\u001b[0m\u001b[0mname\u001b[0m \u001b[1;33m==\u001b[0m \u001b[1;34m\"iloc\"\u001b[0m \u001b[1;32melse\u001b[0m \u001b[0mself\u001b[0m\u001b[1;33m.\u001b[0m\u001b[0mobj\u001b[0m\u001b[1;33m.\u001b[0m\u001b[0miloc\u001b[0m\u001b[1;33m\u001b[0m\u001b[1;33m\u001b[0m\u001b[0m\n\u001b[1;32m--> 692\u001b[1;33m         \u001b[0miloc\u001b[0m\u001b[1;33m.\u001b[0m\u001b[0m_setitem_with_indexer\u001b[0m\u001b[1;33m(\u001b[0m\u001b[0mindexer\u001b[0m\u001b[1;33m,\u001b[0m \u001b[0mvalue\u001b[0m\u001b[1;33m,\u001b[0m \u001b[0mself\u001b[0m\u001b[1;33m.\u001b[0m\u001b[0mname\u001b[0m\u001b[1;33m)\u001b[0m\u001b[1;33m\u001b[0m\u001b[1;33m\u001b[0m\u001b[0m\n\u001b[0m\u001b[0;32m    693\u001b[0m \u001b[1;33m\u001b[0m\u001b[0m\n\u001b[0;32m    694\u001b[0m     \u001b[1;32mdef\u001b[0m \u001b[0m_validate_key\u001b[0m\u001b[1;33m(\u001b[0m\u001b[0mself\u001b[0m\u001b[1;33m,\u001b[0m \u001b[0mkey\u001b[0m\u001b[1;33m,\u001b[0m \u001b[0maxis\u001b[0m\u001b[1;33m:\u001b[0m \u001b[0mint\u001b[0m\u001b[1;33m)\u001b[0m\u001b[1;33m:\u001b[0m\u001b[1;33m\u001b[0m\u001b[1;33m\u001b[0m\u001b[0m\n",
      "\u001b[1;32mc:\\Users\\swak\\anaconda3\\lib\\site-packages\\pandas\\core\\indexing.py\u001b[0m in \u001b[0;36m_setitem_with_indexer\u001b[1;34m(self, indexer, value, name)\u001b[0m\n\u001b[0;32m   1612\u001b[0m                     \u001b[0mindex\u001b[0m \u001b[1;33m=\u001b[0m \u001b[0mself\u001b[0m\u001b[1;33m.\u001b[0m\u001b[0mobj\u001b[0m\u001b[1;33m.\u001b[0m\u001b[0m_get_axis\u001b[0m\u001b[1;33m(\u001b[0m\u001b[0mi\u001b[0m\u001b[1;33m)\u001b[0m\u001b[1;33m\u001b[0m\u001b[1;33m\u001b[0m\u001b[0m\n\u001b[0;32m   1613\u001b[0m                     \u001b[0mlabels\u001b[0m \u001b[1;33m=\u001b[0m \u001b[0mindex\u001b[0m\u001b[1;33m.\u001b[0m\u001b[0minsert\u001b[0m\u001b[1;33m(\u001b[0m\u001b[0mlen\u001b[0m\u001b[1;33m(\u001b[0m\u001b[0mindex\u001b[0m\u001b[1;33m)\u001b[0m\u001b[1;33m,\u001b[0m \u001b[0mkey\u001b[0m\u001b[1;33m)\u001b[0m\u001b[1;33m\u001b[0m\u001b[1;33m\u001b[0m\u001b[0m\n\u001b[1;32m-> 1614\u001b[1;33m                     \u001b[0mself\u001b[0m\u001b[1;33m.\u001b[0m\u001b[0mobj\u001b[0m\u001b[1;33m.\u001b[0m\u001b[0m_mgr\u001b[0m \u001b[1;33m=\u001b[0m \u001b[0mself\u001b[0m\u001b[1;33m.\u001b[0m\u001b[0mobj\u001b[0m\u001b[1;33m.\u001b[0m\u001b[0mreindex\u001b[0m\u001b[1;33m(\u001b[0m\u001b[0mlabels\u001b[0m\u001b[1;33m,\u001b[0m \u001b[0maxis\u001b[0m\u001b[1;33m=\u001b[0m\u001b[0mi\u001b[0m\u001b[1;33m)\u001b[0m\u001b[1;33m.\u001b[0m\u001b[0m_mgr\u001b[0m\u001b[1;33m\u001b[0m\u001b[1;33m\u001b[0m\u001b[0m\n\u001b[0m\u001b[0;32m   1615\u001b[0m                     \u001b[0mself\u001b[0m\u001b[1;33m.\u001b[0m\u001b[0mobj\u001b[0m\u001b[1;33m.\u001b[0m\u001b[0m_maybe_update_cacher\u001b[0m\u001b[1;33m(\u001b[0m\u001b[0mclear\u001b[0m\u001b[1;33m=\u001b[0m\u001b[1;32mTrue\u001b[0m\u001b[1;33m)\u001b[0m\u001b[1;33m\u001b[0m\u001b[1;33m\u001b[0m\u001b[0m\n\u001b[0;32m   1616\u001b[0m                     \u001b[0mself\u001b[0m\u001b[1;33m.\u001b[0m\u001b[0mobj\u001b[0m\u001b[1;33m.\u001b[0m\u001b[0m_is_copy\u001b[0m \u001b[1;33m=\u001b[0m \u001b[1;32mNone\u001b[0m\u001b[1;33m\u001b[0m\u001b[1;33m\u001b[0m\u001b[0m\n",
      "\u001b[1;32mc:\\Users\\swak\\anaconda3\\lib\\site-packages\\pandas\\util\\_decorators.py\u001b[0m in \u001b[0;36mwrapper\u001b[1;34m(*args, **kwargs)\u001b[0m\n\u001b[0;32m    310\u001b[0m         \u001b[1;33m@\u001b[0m\u001b[0mwraps\u001b[0m\u001b[1;33m(\u001b[0m\u001b[0mfunc\u001b[0m\u001b[1;33m)\u001b[0m\u001b[1;33m\u001b[0m\u001b[1;33m\u001b[0m\u001b[0m\n\u001b[0;32m    311\u001b[0m         \u001b[1;32mdef\u001b[0m \u001b[0mwrapper\u001b[0m\u001b[1;33m(\u001b[0m\u001b[1;33m*\u001b[0m\u001b[0margs\u001b[0m\u001b[1;33m,\u001b[0m \u001b[1;33m**\u001b[0m\u001b[0mkwargs\u001b[0m\u001b[1;33m)\u001b[0m \u001b[1;33m->\u001b[0m \u001b[0mCallable\u001b[0m\u001b[1;33m[\u001b[0m\u001b[1;33m...\u001b[0m\u001b[1;33m,\u001b[0m \u001b[0mAny\u001b[0m\u001b[1;33m]\u001b[0m\u001b[1;33m:\u001b[0m\u001b[1;33m\u001b[0m\u001b[1;33m\u001b[0m\u001b[0m\n\u001b[1;32m--> 312\u001b[1;33m             \u001b[1;32mreturn\u001b[0m \u001b[0mfunc\u001b[0m\u001b[1;33m(\u001b[0m\u001b[1;33m*\u001b[0m\u001b[0margs\u001b[0m\u001b[1;33m,\u001b[0m \u001b[1;33m**\u001b[0m\u001b[0mkwargs\u001b[0m\u001b[1;33m)\u001b[0m\u001b[1;33m\u001b[0m\u001b[1;33m\u001b[0m\u001b[0m\n\u001b[0m\u001b[0;32m    313\u001b[0m \u001b[1;33m\u001b[0m\u001b[0m\n\u001b[0;32m    314\u001b[0m         \u001b[0mkind\u001b[0m \u001b[1;33m=\u001b[0m \u001b[0minspect\u001b[0m\u001b[1;33m.\u001b[0m\u001b[0mParameter\u001b[0m\u001b[1;33m.\u001b[0m\u001b[0mPOSITIONAL_OR_KEYWORD\u001b[0m\u001b[1;33m\u001b[0m\u001b[1;33m\u001b[0m\u001b[0m\n",
      "\u001b[1;32mc:\\Users\\swak\\anaconda3\\lib\\site-packages\\pandas\\core\\frame.py\u001b[0m in \u001b[0;36mreindex\u001b[1;34m(self, *args, **kwargs)\u001b[0m\n\u001b[0;32m   4174\u001b[0m         \u001b[0mkwargs\u001b[0m\u001b[1;33m.\u001b[0m\u001b[0mpop\u001b[0m\u001b[1;33m(\u001b[0m\u001b[1;34m\"axis\"\u001b[0m\u001b[1;33m,\u001b[0m \u001b[1;32mNone\u001b[0m\u001b[1;33m)\u001b[0m\u001b[1;33m\u001b[0m\u001b[1;33m\u001b[0m\u001b[0m\n\u001b[0;32m   4175\u001b[0m         \u001b[0mkwargs\u001b[0m\u001b[1;33m.\u001b[0m\u001b[0mpop\u001b[0m\u001b[1;33m(\u001b[0m\u001b[1;34m\"labels\"\u001b[0m\u001b[1;33m,\u001b[0m \u001b[1;32mNone\u001b[0m\u001b[1;33m)\u001b[0m\u001b[1;33m\u001b[0m\u001b[1;33m\u001b[0m\u001b[0m\n\u001b[1;32m-> 4176\u001b[1;33m         \u001b[1;32mreturn\u001b[0m \u001b[0msuper\u001b[0m\u001b[1;33m(\u001b[0m\u001b[1;33m)\u001b[0m\u001b[1;33m.\u001b[0m\u001b[0mreindex\u001b[0m\u001b[1;33m(\u001b[0m\u001b[1;33m**\u001b[0m\u001b[0mkwargs\u001b[0m\u001b[1;33m)\u001b[0m\u001b[1;33m\u001b[0m\u001b[1;33m\u001b[0m\u001b[0m\n\u001b[0m\u001b[0;32m   4177\u001b[0m \u001b[1;33m\u001b[0m\u001b[0m\n\u001b[0;32m   4178\u001b[0m     def drop(\n",
      "\u001b[1;32mc:\\Users\\swak\\anaconda3\\lib\\site-packages\\pandas\\core\\generic.py\u001b[0m in \u001b[0;36mreindex\u001b[1;34m(self, *args, **kwargs)\u001b[0m\n\u001b[0;32m   4809\u001b[0m \u001b[1;33m\u001b[0m\u001b[0m\n\u001b[0;32m   4810\u001b[0m         \u001b[1;31m# perform the reindex on the axes\u001b[0m\u001b[1;33m\u001b[0m\u001b[1;33m\u001b[0m\u001b[1;33m\u001b[0m\u001b[0m\n\u001b[1;32m-> 4811\u001b[1;33m         return self._reindex_axes(\n\u001b[0m\u001b[0;32m   4812\u001b[0m             \u001b[0maxes\u001b[0m\u001b[1;33m,\u001b[0m \u001b[0mlevel\u001b[0m\u001b[1;33m,\u001b[0m \u001b[0mlimit\u001b[0m\u001b[1;33m,\u001b[0m \u001b[0mtolerance\u001b[0m\u001b[1;33m,\u001b[0m \u001b[0mmethod\u001b[0m\u001b[1;33m,\u001b[0m \u001b[0mfill_value\u001b[0m\u001b[1;33m,\u001b[0m \u001b[0mcopy\u001b[0m\u001b[1;33m\u001b[0m\u001b[1;33m\u001b[0m\u001b[0m\n\u001b[0;32m   4813\u001b[0m         ).__finalize__(self, method=\"reindex\")\n",
      "\u001b[1;32mc:\\Users\\swak\\anaconda3\\lib\\site-packages\\pandas\\core\\frame.py\u001b[0m in \u001b[0;36m_reindex_axes\u001b[1;34m(self, axes, level, limit, tolerance, method, fill_value, copy)\u001b[0m\n\u001b[0;32m   4020\u001b[0m         \u001b[0mindex\u001b[0m \u001b[1;33m=\u001b[0m \u001b[0maxes\u001b[0m\u001b[1;33m[\u001b[0m\u001b[1;34m\"index\"\u001b[0m\u001b[1;33m]\u001b[0m\u001b[1;33m\u001b[0m\u001b[1;33m\u001b[0m\u001b[0m\n\u001b[0;32m   4021\u001b[0m         \u001b[1;32mif\u001b[0m \u001b[0mindex\u001b[0m \u001b[1;32mis\u001b[0m \u001b[1;32mnot\u001b[0m \u001b[1;32mNone\u001b[0m\u001b[1;33m:\u001b[0m\u001b[1;33m\u001b[0m\u001b[1;33m\u001b[0m\u001b[0m\n\u001b[1;32m-> 4022\u001b[1;33m             frame = frame._reindex_index(\n\u001b[0m\u001b[0;32m   4023\u001b[0m                 \u001b[0mindex\u001b[0m\u001b[1;33m,\u001b[0m \u001b[0mmethod\u001b[0m\u001b[1;33m,\u001b[0m \u001b[0mcopy\u001b[0m\u001b[1;33m,\u001b[0m \u001b[0mlevel\u001b[0m\u001b[1;33m,\u001b[0m \u001b[0mfill_value\u001b[0m\u001b[1;33m,\u001b[0m \u001b[0mlimit\u001b[0m\u001b[1;33m,\u001b[0m \u001b[0mtolerance\u001b[0m\u001b[1;33m\u001b[0m\u001b[1;33m\u001b[0m\u001b[0m\n\u001b[0;32m   4024\u001b[0m             )\n",
      "\u001b[1;32mc:\\Users\\swak\\anaconda3\\lib\\site-packages\\pandas\\core\\frame.py\u001b[0m in \u001b[0;36m_reindex_index\u001b[1;34m(self, new_index, method, copy, level, fill_value, limit, tolerance)\u001b[0m\n\u001b[0;32m   4036\u001b[0m         \u001b[0mtolerance\u001b[0m\u001b[1;33m=\u001b[0m\u001b[1;32mNone\u001b[0m\u001b[1;33m,\u001b[0m\u001b[1;33m\u001b[0m\u001b[1;33m\u001b[0m\u001b[0m\n\u001b[0;32m   4037\u001b[0m     ):\n\u001b[1;32m-> 4038\u001b[1;33m         new_index, indexer = self.index.reindex(\n\u001b[0m\u001b[0;32m   4039\u001b[0m             \u001b[0mnew_index\u001b[0m\u001b[1;33m,\u001b[0m \u001b[0mmethod\u001b[0m\u001b[1;33m=\u001b[0m\u001b[0mmethod\u001b[0m\u001b[1;33m,\u001b[0m \u001b[0mlevel\u001b[0m\u001b[1;33m=\u001b[0m\u001b[0mlevel\u001b[0m\u001b[1;33m,\u001b[0m \u001b[0mlimit\u001b[0m\u001b[1;33m=\u001b[0m\u001b[0mlimit\u001b[0m\u001b[1;33m,\u001b[0m \u001b[0mtolerance\u001b[0m\u001b[1;33m=\u001b[0m\u001b[0mtolerance\u001b[0m\u001b[1;33m\u001b[0m\u001b[1;33m\u001b[0m\u001b[0m\n\u001b[0;32m   4040\u001b[0m         )\n",
      "\u001b[1;32mc:\\Users\\swak\\anaconda3\\lib\\site-packages\\pandas\\core\\indexes\\base.py\u001b[0m in \u001b[0;36mreindex\u001b[1;34m(self, target, method, level, limit, tolerance)\u001b[0m\n\u001b[0;32m   3514\u001b[0m             \u001b[1;32melse\u001b[0m\u001b[1;33m:\u001b[0m\u001b[1;33m\u001b[0m\u001b[1;33m\u001b[0m\u001b[0m\n\u001b[0;32m   3515\u001b[0m                 \u001b[1;32mif\u001b[0m \u001b[0mself\u001b[0m\u001b[1;33m.\u001b[0m\u001b[0m_index_as_unique\u001b[0m\u001b[1;33m:\u001b[0m\u001b[1;33m\u001b[0m\u001b[1;33m\u001b[0m\u001b[0m\n\u001b[1;32m-> 3516\u001b[1;33m                     indexer = self.get_indexer(\n\u001b[0m\u001b[0;32m   3517\u001b[0m                         \u001b[0mtarget\u001b[0m\u001b[1;33m,\u001b[0m \u001b[0mmethod\u001b[0m\u001b[1;33m=\u001b[0m\u001b[0mmethod\u001b[0m\u001b[1;33m,\u001b[0m \u001b[0mlimit\u001b[0m\u001b[1;33m=\u001b[0m\u001b[0mlimit\u001b[0m\u001b[1;33m,\u001b[0m \u001b[0mtolerance\u001b[0m\u001b[1;33m=\u001b[0m\u001b[0mtolerance\u001b[0m\u001b[1;33m\u001b[0m\u001b[1;33m\u001b[0m\u001b[0m\n\u001b[0;32m   3518\u001b[0m                     )\n",
      "\u001b[1;32mc:\\Users\\swak\\anaconda3\\lib\\site-packages\\pandas\\core\\indexes\\base.py\u001b[0m in \u001b[0;36mget_indexer\u001b[1;34m(self, target, method, limit, tolerance)\u001b[0m\n\u001b[0;32m   3189\u001b[0m                 )\n\u001b[0;32m   3190\u001b[0m \u001b[1;33m\u001b[0m\u001b[0m\n\u001b[1;32m-> 3191\u001b[1;33m             \u001b[0mindexer\u001b[0m \u001b[1;33m=\u001b[0m \u001b[0mself\u001b[0m\u001b[1;33m.\u001b[0m\u001b[0m_engine\u001b[0m\u001b[1;33m.\u001b[0m\u001b[0mget_indexer\u001b[0m\u001b[1;33m(\u001b[0m\u001b[0mtarget\u001b[0m\u001b[1;33m.\u001b[0m\u001b[0m_get_engine_target\u001b[0m\u001b[1;33m(\u001b[0m\u001b[1;33m)\u001b[0m\u001b[1;33m)\u001b[0m\u001b[1;33m\u001b[0m\u001b[1;33m\u001b[0m\u001b[0m\n\u001b[0m\u001b[0;32m   3192\u001b[0m \u001b[1;33m\u001b[0m\u001b[0m\n\u001b[0;32m   3193\u001b[0m         \u001b[1;32mreturn\u001b[0m \u001b[0mensure_platform_int\u001b[0m\u001b[1;33m(\u001b[0m\u001b[0mindexer\u001b[0m\u001b[1;33m)\u001b[0m\u001b[1;33m\u001b[0m\u001b[1;33m\u001b[0m\u001b[0m\n",
      "\u001b[1;32mpandas\\_libs\\index.pyx\u001b[0m in \u001b[0;36mpandas._libs.index.IndexEngine.get_indexer\u001b[1;34m()\u001b[0m\n",
      "\u001b[1;32mpandas\\_libs\\hashtable_class_helper.pxi\u001b[0m in \u001b[0;36mpandas._libs.hashtable.Int64HashTable.lookup\u001b[1;34m()\u001b[0m\n",
      "\u001b[1;32mc:\\Users\\swak\\anaconda3\\lib\\site-packages\\numpy\\core\\_asarray.py\u001b[0m in \u001b[0;36masarray\u001b[1;34m(a, dtype, order, like)\u001b[0m\n\u001b[0;32m     21\u001b[0m \u001b[1;33m\u001b[0m\u001b[0m\n\u001b[0;32m     22\u001b[0m \u001b[1;33m\u001b[0m\u001b[0m\n\u001b[1;32m---> 23\u001b[1;33m \u001b[1;33m@\u001b[0m\u001b[0mset_array_function_like_doc\u001b[0m\u001b[1;33m\u001b[0m\u001b[1;33m\u001b[0m\u001b[0m\n\u001b[0m\u001b[0;32m     24\u001b[0m \u001b[1;33m@\u001b[0m\u001b[0mset_module\u001b[0m\u001b[1;33m(\u001b[0m\u001b[1;34m'numpy'\u001b[0m\u001b[1;33m)\u001b[0m\u001b[1;33m\u001b[0m\u001b[1;33m\u001b[0m\u001b[0m\n\u001b[0;32m     25\u001b[0m \u001b[1;32mdef\u001b[0m \u001b[0masarray\u001b[0m\u001b[1;33m(\u001b[0m\u001b[0ma\u001b[0m\u001b[1;33m,\u001b[0m \u001b[0mdtype\u001b[0m\u001b[1;33m=\u001b[0m\u001b[1;32mNone\u001b[0m\u001b[1;33m,\u001b[0m \u001b[0morder\u001b[0m\u001b[1;33m=\u001b[0m\u001b[1;32mNone\u001b[0m\u001b[1;33m,\u001b[0m \u001b[1;33m*\u001b[0m\u001b[1;33m,\u001b[0m \u001b[0mlike\u001b[0m\u001b[1;33m=\u001b[0m\u001b[1;32mNone\u001b[0m\u001b[1;33m)\u001b[0m\u001b[1;33m:\u001b[0m\u001b[1;33m\u001b[0m\u001b[1;33m\u001b[0m\u001b[0m\n",
      "\u001b[1;31mKeyboardInterrupt\u001b[0m: "
     ]
    }
   ],
   "source": [
    "\n",
    "df = pd.DataFrame()\n",
    "for i in range(300):\n",
    "    df.loc[i, 'first_name'] = names_df.loc[i%1000000, 'Name']\n",
    "    df.loc[i, 'Minit'] = alphabet[i%27]\n",
    "    df.loc[i, 'last_name'] = names_df.loc[(i+1)%1000000, 'Name']\n",
    "    df.loc[i, 'Address'] = Address_df.loc[i%1000000, 'FULL ADDRESS']\n",
    "\n",
    "    df.loc[i, 'BDate'] = pd.to_datetime(str((i%29) + 1) + \"/\"+str((i%12) + 1)+\"/\"+str(2000 + i%40))\n",
    "    df.loc[i, 'Sex'] = i%3\n",
    "    df.loc[i, 'Salary'] = i*3000\n",
    "\n",
    "    if(i%100000 == 0):\n",
    "        print(i)\n",
    "\n",
    "df.to_csv('Employee.csv')"
   ]
  },
  {
   "cell_type": "code",
   "execution_count": 4,
   "metadata": {},
   "outputs": [],
   "source": []
  },
  {
   "cell_type": "code",
   "execution_count": 12,
   "metadata": {},
   "outputs": [
    {
     "name": "stdout",
     "output_type": "stream",
     "text": [
      "[(1113331, )]\n"
     ]
    }
   ],
   "source": [
    "#QUERIES TO FILL \"Employee\"\n",
    "\n",
    "\n",
    "server = 'LAPTOP-66BOPJMV\\SQLEXPRESS'\n",
    "database = 'Brokerage_Firm'\n",
    "\n",
    "connection = pyodbc.connect('DRIVER={ODBC Driver 17 for SQL Server};\\\n",
    "                            server='+server+';\\\n",
    "                            database='+database+';\\\n",
    "                            trusted_connection=yes;')\n",
    "cursor = connection.cursor()\n",
    "\n",
    "\n",
    "insert_to_employee = \"INSERT INTO Employee (Fname, Minit, Lname, Address_, Bdate, Sex, Salary) VALUES(?,?,?, ?, ?, ?, ?)\"\n",
    "select_all_from_employee = \"select * from Employee\"\n",
    "\n",
    "\n",
    "\n",
    "for i in range(1000):\n",
    "    #lst = [df['first_name'], df['Minit'], df['last_name'], pd.to_datetime(df['BDate']), df['Address'], df['gender'].astype(int), df['Salary'].astype(int)]\n",
    "\n",
    "    #batch size is 3000\n",
    "    lst = df.iloc[(i)*1000: (i+1)*1000,1:].values.tolist()\n",
    "    cursor.executemany(insert_to_employee, lst)\n",
    "\n",
    "connection.commit()\n",
    "\n",
    "\n",
    "\n",
    "get_Employees_count = \"select count (*) from Employee\"\n",
    "\n",
    "cursor = connection.cursor()\n",
    "count = cursor.execute(get_Employees_count)\n",
    "print(list(count))\n",
    "#for row in cursor:\n",
    "#    print(row)"
   ]
  },
  {
   "cell_type": "code",
   "execution_count": 66,
   "metadata": {},
   "outputs": [
    {
     "ename": "Error",
     "evalue": "('HY000', '[HY000] [Microsoft][ODBC Driver 17 for SQL Server]Connection is busy with results for another command (0) (SQLExecDirectW)')",
     "output_type": "error",
     "traceback": [
      "\u001b[1;31m---------------------------------------------------------------------------\u001b[0m",
      "\u001b[1;31mError\u001b[0m                                     Traceback (most recent call last)",
      "\u001b[1;32m<ipython-input-66-c02013273652>\u001b[0m in \u001b[0;36m<module>\u001b[1;34m\u001b[0m\n\u001b[0;32m      2\u001b[0m \u001b[1;33m\u001b[0m\u001b[0m\n\u001b[0;32m      3\u001b[0m \u001b[0mcursor\u001b[0m \u001b[1;33m=\u001b[0m \u001b[0mconnection\u001b[0m\u001b[1;33m.\u001b[0m\u001b[0mcursor\u001b[0m\u001b[1;33m(\u001b[0m\u001b[1;33m)\u001b[0m\u001b[1;33m\u001b[0m\u001b[1;33m\u001b[0m\u001b[0m\n\u001b[1;32m----> 4\u001b[1;33m \u001b[0mcount\u001b[0m \u001b[1;33m=\u001b[0m \u001b[0mcursor\u001b[0m\u001b[1;33m.\u001b[0m\u001b[0mexecute\u001b[0m\u001b[1;33m(\u001b[0m\u001b[0mget_Employees_count\u001b[0m\u001b[1;33m)\u001b[0m\u001b[1;33m\u001b[0m\u001b[1;33m\u001b[0m\u001b[0m\n\u001b[0m\u001b[0;32m      5\u001b[0m \u001b[0mprint\u001b[0m\u001b[1;33m(\u001b[0m\u001b[0mlist\u001b[0m\u001b[1;33m(\u001b[0m\u001b[0mcount\u001b[0m\u001b[1;33m)\u001b[0m\u001b[1;33m)\u001b[0m\u001b[1;33m\u001b[0m\u001b[1;33m\u001b[0m\u001b[0m\n\u001b[0;32m      6\u001b[0m \u001b[1;31m#for row in cursor:\u001b[0m\u001b[1;33m\u001b[0m\u001b[1;33m\u001b[0m\u001b[1;33m\u001b[0m\u001b[0m\n",
      "\u001b[1;31mError\u001b[0m: ('HY000', '[HY000] [Microsoft][ODBC Driver 17 for SQL Server]Connection is busy with results for another command (0) (SQLExecDirectW)')"
     ]
    }
   ],
   "source": [
    "''' Department Attributes\n",
    "Dname nvarchar(50),\n",
    "Dnumber int identity (1,1) Primary Key NOT NULL,\n",
    "Mgr_SSN int foreign key references Employee(SSN),\n",
    "Mgr_Start_Date DATE\n",
    "'''\n",
    "Dept_df = pd.DataFrame()\n",
    "Dept_df['Dname'] = GenerateRandName(True)\n",
    "\n",
    "Dept_df['Mgr_SSN'] = random.choice(range(1,30))\n",
    "Dept_df['Mgr_Start_Date'] = pd.to_datetime('11/11/2000')\n",
    "\n",
    "for i in range(1,10000):\n",
    "    Dept_df.loc[i, 'Dname'] = GenerateRandName(True)\n",
    "    Dept_df.loc[i, 'Mgr_SSN'] = random.choice(range(1,200000))\n",
    "   \n",
    "    Dept_df.loc[i, 'Mgr_Start_Date'] = GenerateRandomDate()\n",
    "\n",
    "\n",
    "while(len(Dept_df) < 1000000):\n",
    "    Dept_df = Dept_df.append(Dept_df)\n",
    "\n",
    "Dept_df.to_csv('Department.csv')\n",
    "\n",
    "\n",
    "\n",
    "server = 'LAPTOP-66BOPJMV\\SQLEXPRESS'\n",
    "database = 'Brokerage_Firm'\n",
    "\n",
    "connection = pyodbc.connect('DRIVER={ODBC Driver 17 for SQL Server};\\\n",
    "                            server='+server+';\\\n",
    "                            database='+database+';\\\n",
    "                            trusted_connection=yes;')\n",
    "cursor = connection.cursor()\n",
    "\n",
    "\n",
    "insert_to_Department= \"INSERT INTO Department (Dname, Mgr_SSN, Mgr_Start_Date) VALUES(?,?,?)\"\n",
    "select_all_from_Department = \"select * from Department\"\n",
    "get_Department_count = \"select count (*) from Department\"\n",
    "\n",
    "for i in range(1000):\n",
    "    lst = Dept_df.iloc[i*1000:(i+1)*1000,:].values.tolist()\n",
    "    cursor.executemany(insert_to_Department, lst)\n",
    "\n",
    "connection.commit()\n",
    "\n",
    "count = cursor.execute(get_Department_count)\n",
    "print(list(count))"
   ]
  },
  {
   "cell_type": "code",
   "execution_count": null,
   "metadata": {},
   "outputs": [],
   "source": [
    "'''\n",
    "\n",
    "create table Project\n",
    "(\n",
    "Pname nvarchar(50),\n",
    "Pnumber INT unique identity (1,1) NOT NULL,\n",
    "Plocation nvarchar(50) NOT NULL,\n",
    "DNO INT foreign key references Department(Dnumber),\n",
    "CONSTRAINT Project_KEY_COMPOSITE PRIMARY KEY (Pnumber, Plocation)\n",
    ");\n",
    "'''\n",
    "\n",
    "Project_df = pd.DataFrame()\n",
    "Project_df.loc[0,'Pname'] = 'advanced databases'\n",
    "\n",
    "Project_df.loc[0,'Plocation'] = Address_df.loc[0, \"FULL ADDRESS\"]\n",
    "Project_df.loc[0,'DNO'] = 1\n",
    "\n",
    "\n",
    "for i in range(1, 10000):\n",
    "    Project_df.loc[i,'Pname'] = GenerateRandName(True)\n",
    "    Project_df.loc[i,'Plocation'] = Address_df.loc[i, \"FULL ADDRESS\"]\n",
    "    Project_df.loc[i,'DNO'] = i+1\n",
    "Project_df.head()\n",
    "\n",
    "while(len(Project_df) < 1000000):\n",
    "    Project_df = Project_df.append(Project_df)\n",
    "\n",
    "Project_df.to_csv('Project.csv')\n",
    "\n",
    "server = 'LAPTOP-66BOPJMV\\SQLEXPRESS'\n",
    "database = 'Brokerage_Firm'\n",
    "\n",
    "connection = pyodbc.connect('DRIVER={ODBC Driver 17 for SQL Server};\\\n",
    "                            server='+server+';\\\n",
    "                            database='+database+';\\\n",
    "                            trusted_connection=yes;')\n",
    "cursor = connection.cursor()\n",
    "\n",
    "\n",
    "insert_to_Project = \"INSERT INTO Project (Pname, Plocation, DNO) VALUES(?,?, ?)\"\n",
    "select_all_from_Project = \"select * from Project\"\n",
    "get_Project_count = \"select count (*) from Project\"\n",
    "\n",
    "\n",
    "for i in range(800):\n",
    "    lst = Project_df.iloc[i*1000:(i+1)*1000,:].values.tolist()\n",
    "    cursor.executemany(insert_to_Project, lst)\n",
    "\n",
    "connection.commit()\n",
    "\n",
    "count = cursor.execute(get_Project_count)\n",
    "print(list(count))"
   ]
  },
  {
   "cell_type": "code",
   "execution_count": 65,
   "metadata": {},
   "outputs": [
    {
     "name": "stdout",
     "output_type": "stream",
     "text": [
      "[(1608000, )]\n"
     ]
    }
   ],
   "source": []
  },
  {
   "cell_type": "code",
   "execution_count": 11,
   "metadata": {},
   "outputs": [
    {
     "name": "stdout",
     "output_type": "stream",
     "text": [
      "SQL Server\n",
      "SQL Server Native Client 11.0\n",
      "SQL Server Native Client RDA 11.0\n",
      "ODBC Driver 17 for SQL Server\n",
      "Microsoft Access Driver (*.mdb, *.accdb)\n",
      "Microsoft Excel Driver (*.xls, *.xlsx, *.xlsm, *.xlsb)\n",
      "Microsoft Access Text Driver (*.txt, *.csv)\n"
     ]
    }
   ],
   "source": [
    "''' DEPT LOCATION\n",
    "\n",
    "create table Dept_Locations\n",
    "(\n",
    "Dnumber INT foreign key references Department(Dnumber),\n",
    "Dlocation nvarchar(50) NOT NULL,\n",
    "CONSTRAINT Department_KEY_COMPOSITE PRIMARY KEY (Dnumber, Dlocation)\n",
    ");\n",
    "'''\n",
    "Address_df = pd.read_csv('Address.csv')\n",
    "DeptLoc_df = pd.DataFrame()\n",
    "\n",
    "#Make it a MILLION\n",
    "for i in range(10000):\n",
    "    DeptLoc_df.loc[i,'Dnumber'] = i\n",
    "    \n",
    "    DeptLoc_df.loc[i,'Dlocation'] = Address_df.loc[random.choice(range(1,400000)), 'FULL ADDRESS']\n",
    "\n",
    "DeptLoc_df.to_csv('Dept_Locations.csv')\n",
    "\n",
    "\n",
    "\n",
    "\n",
    "server = 'LAPTOP-66BOPJMV\\SQLEXPRESS'\n",
    "database = 'Brokerage_Firm'\n",
    "\n",
    "connection = pyodbc.connect('DRIVER={ODBC Driver 17 for SQL Server};\\\n",
    "                            server='+server+';\\\n",
    "                            database='+database+';\\\n",
    "                            trusted_connection=yes;')\n",
    "cursor = connection.cursor()\n",
    "\n",
    "\n",
    "insert_to_DeptLocation = \"INSERT INTO Dept_Locations (Dnumber, Dlocation) VALUES(?,?)\"\n",
    "select_all_from_DeptLocations = \"select * from Dept_Locations\"\n",
    "get_Dept_location_count = \"select count (*) from Dept_Locations\"\n",
    "\n",
    "for i in range(1,8):\n",
    "    lst = DeptLoc_df.iloc[i*1000:(i+1)*1000,:].values.tolist()\n",
    "    #try:\n",
    "    cursor.executemany(insert_to_DeptLocation, lst)\n",
    "    #except:\n",
    "    #    print('error')\n",
    "        #print(lst)\n",
    "\n",
    "\n",
    "\n",
    "\n",
    "#lst = DeptLoc_df.iloc[1:3,:].values.tolist()\n",
    "#cursor.executemany(insert_to_DeptLocation, lst)\n",
    "connection.commit()\n",
    "\n",
    "count = cursor.execute(get_Dept_location_count)\n",
    "print(list(count))"
   ]
  },
  {
   "cell_type": "code",
   "execution_count": 22,
   "metadata": {},
   "outputs": [
    {
     "data": {
      "text/plain": [
       "<pyodbc.Cursor at 0x1e8dad45330>"
      ]
     },
     "execution_count": 22,
     "metadata": {},
     "output_type": "execute_result"
    }
   ],
   "source": [
    "#Testing by inserting only one row into employees\n",
    "\n",
    "\n",
    "lst = [df['first_name'][0], df['Minit'][0], df['last_name'][0], pd.to_datetime(df['BDate'][0]), df['Address'][0], int(df['gender'][0]), int(df['Salary'][0])]\n",
    "\n",
    "server = 'LAPTOP-66BOPJMV\\SQLEXPRESS'\n",
    "database = 'Brokerage_Firm'\n",
    "\n",
    "connection = pyodbc.connect('DRIVER={ODBC Driver 17 for SQL Server};\\\n",
    "                            server='+server+';\\\n",
    "                            database='+database+';\\\n",
    "                            trusted_connection=yes;')\n",
    "cursor = connection.cursor()\n",
    "cursor.execute(\"INSERT INTO Employee (Fname, Minit, Lname, Bdate, Address_, Sex, Salary) VALUES(?,?,?, ?, ?, ?, ?)\", lst)"
   ]
  },
  {
   "cell_type": "code",
   "execution_count": 4,
   "metadata": {},
   "outputs": [],
   "source": [
    "'''\n",
    "TODO: add a table for \"Interns\" with attibutes: SSN, Fname, Minit, Lname, Bdate, Address, Major, Projectnum, ManagerSSN\n",
    "TODO: fill the other tables dummyly\n",
    "TODO: add table \"Contracts\" with attributes: Name_Company, Date_created, ProjectID, Product, Price, Date_of_Contract, Emp_Name,Emp_SSN,Contractor_Name, SSN, Delivery_Location\n",
    "\n",
    "'''\n",
    "\n"
   ]
  },
  {
   "cell_type": "code",
   "execution_count": 56,
   "metadata": {},
   "outputs": [],
   "source": [
    "'''\n",
    "create table Contracts\n",
    "(\n",
    "Name_Company nvarchar(50),\n",
    "Date_created DATE,\n",
    "ProjectID int,\n",
    "Product nvarchar(50),\n",
    "Price int,\n",
    "Date_of_Contract DATE,\n",
    "Emp_Name nvarchar(50),\n",
    "Emp_SSN int,\n",
    "Contractor_Name nvarchar(50),\n",
    "Cont_SSN int,\n",
    "Delivery_Location nvarchar(50),\n",
    "CONSTRAINT Contracts_KEY_COMPOSITE PRIMARY KEY (Product, Emp_SSN, Cont_SSN)\n",
    ");\n",
    "'''\n",
    "names_df = pd.read_csv('Names.csv')\n",
    "location_pd = pd.read_csv('Address.csv')\n",
    "Contract_df = pd.DataFrame()\n",
    "\n",
    "Contract_df = pd.DataFrame.from_dict({'Name_Company':[\"ARAMEX\"],            \n",
    "                                        'Date_created': [pd.to_datetime('11/11/2000')],      \n",
    "                                        'ProjectID': [1],\n",
    "                                        'Product': [\"cement\"],\n",
    "                                        'Price': [2000],\n",
    "                                        'Date_of_Contract': [pd.to_datetime('11/11/2000')],\n",
    "                                        'Emp_Name': [\"Ayman\"],\n",
    "                                        'Emp_SSN': [1],\n",
    "                                        'Contractor_Name': [\"Moahemd\"],\n",
    "                                        'Cont_SSN': [2],\n",
    "                                        'Delivery_Location': [\"Helwan\"]})\n",
    "\n",
    "j=1\n",
    "\n",
    "# MAKE IT A MILLION\n",
    "for i in range(1,10000):\n",
    "    '''\n",
    "    Contract_df.insert(i, 'Name_Company', GenerateRandName(False))\n",
    "    Contract_df.insert(i, 'ProjectID', i/30000)\n",
    "    Contract_df.insert(i, \"Product\", 'Prod_'+GenerateRandName(True))\n",
    "    Contract_df.insert(i, \"Price\",  random.choice(range(1,2000000)))\n",
    "    Contract_df.insert(i, \"Emp_Name\",  names_df.loc[i, 'Name'])\n",
    "    Contract_df.insert(i, \"Emp_SSN\", i)\n",
    "    Contract_df.insert(i, \"Contractor_Name\", names_df.loc[i-1, 'Name'])\n",
    "    Contract_df.insert(i, \"Cont_SSN\", 4000000+i)\n",
    "    Contract_df.insert(i, \"Delivery_Location\", location_pd.loc[i, 'FULL ADDRESS'])\n",
    "    Contract_df.insert(i, \"Date_created\", GenerateRandomDate())\n",
    "    Contract_df.insert(i, \"Date_of_Contract\", GenerateRandomDate())\n",
    "    '''\n",
    "    if(i%10000 == 0):\n",
    "        j = i+ random.choice([1,2,3,4,5,6,7,8,9])\n",
    "\n",
    "    Contract_df.loc[i, 'Name_Company'] = GenerateRandName(False)\n",
    "    Contract_df.loc[i, 'ProjectID'] = j%30000\n",
    "    Contract_df.loc[i, 'Product'] = 'Prod_'+(GenerateRandName(True))\n",
    "\n",
    "    Contract_df.loc[i, 'Price'] = random.choice(range(1,20000))\n",
    "    Contract_df.loc[i, 'Emp_Name'] = names_df.loc[i, 'Name']\n",
    "    Contract_df.loc[i, 'Emp_SSN'] = j\n",
    "    Contract_df.loc[i, 'Contractor_Name'] = names_df.loc[i-1, 'Name']\n",
    "    Contract_df.loc[i, 'Cont_SSN'] = 40000+i\n",
    "    Contract_df.loc[i, 'Delivery_Location'] = location_pd.loc[i, 'FULL ADDRESS']\n",
    "    \n",
    "    Contract_df.loc[i, 'Date_created'] = GenerateRandomDate()\n",
    "    Contract_df['Date_of_Contract'] = GenerateRandomDate()\n",
    "    j = j+1\n",
    "\n",
    "Contract_df.to_csv('Contracts.csv')\n",
    "\n",
    "\n"
   ]
  },
  {
   "cell_type": "code",
   "execution_count": 68,
   "metadata": {},
   "outputs": [
    {
     "name": "stdout",
     "output_type": "stream",
     "text": [
      "10000\n",
      "Name_Company                                 LD\n",
      "Date_created                         2011-11-26\n",
      "ProjectID                                9999.0\n",
      "Product                        Prod_wdhD9KxtvaC\n",
      "Price                                   17691.0\n",
      "Date_of_Contract                     2002-10-23\n",
      "Emp_Name                                Lindsay\n",
      "Emp_SSN                                  9999.0\n",
      "Contractor_Name                         Julious\n",
      "Cont_SSN                                49999.0\n",
      "Delivery_Location    11843 BRICKSOME AVE, STE D\n",
      "Name: 9999, dtype: object\n"
     ]
    }
   ],
   "source": []
  },
  {
   "cell_type": "code",
   "execution_count": 69,
   "metadata": {},
   "outputs": [],
   "source": [
    "server = 'LAPTOP-66BOPJMV\\SQLEXPRESS'\n",
    "database = 'Brokerage_Firm'\n",
    "\n",
    "connection = pyodbc.connect('DRIVER={ODBC Driver 17 for SQL Server};\\\n",
    "                            server='+server+';\\\n",
    "                            database='+database+';\\\n",
    "                            trusted_connection=yes;')\n",
    "cursor = connection.cursor()\n",
    "\n",
    "\n",
    "cursor.execute(\"delete from Contracts\")\n",
    "cursor.commit()"
   ]
  },
  {
   "cell_type": "code",
   "execution_count": 77,
   "metadata": {},
   "outputs": [
    {
     "name": "stdout",
     "output_type": "stream",
     "text": [
      "[(8000, )]\n"
     ]
    }
   ],
   "source": [
    "server = 'LAPTOP-66BOPJMV\\SQLEXPRESS'\n",
    "database = 'Brokerage_Firm'\n",
    "\n",
    "connection = pyodbc.connect('DRIVER={ODBC Driver 17 for SQL Server};\\\n",
    "                            server='+server+';\\\n",
    "                            database='+database+';\\\n",
    "                            trusted_connection=yes;')\n",
    "cursor = connection.cursor()\n",
    "\n",
    "\n",
    "\n",
    "\n",
    "insert_to_Contracts= \"INSERT INTO Contracts (Name_Company, Date_created, ProjectID, Product, Price, Date_of_Contract, Emp_Name, Emp_SSN, Contractor_Name, Cont_SSN, Delivery_Location) VALUES(?,?,?, ?,?,?,?,?,?,?,?)\"\n",
    "select_all_from_Contracts = \"select * from Contracts\"\n",
    "get_Contracts_count = \"select count (*) from Contracts\"\n",
    "\n",
    "\n",
    "for i in range(8):\n",
    "    lst = Contract_df.iloc[i*1000:(i+1)*1000,1:].values.tolist()\n",
    "    #try:\n",
    "    cursor.executemany(insert_to_Contracts, lst)\n",
    "    #except:\n",
    "    #    print(\"hello\")\n",
    "    #    print(Contract_df.iloc[i,1:12])\n",
    "\n",
    "connection.commit()\n",
    "\n",
    "count = cursor.execute(get_Contracts_count)\n",
    "print(list(count))"
   ]
  },
  {
   "cell_type": "code",
   "execution_count": 12,
   "metadata": {},
   "outputs": [],
   "source": [
    "\n"
   ]
  },
  {
   "cell_type": "code",
   "execution_count": 17,
   "metadata": {},
   "outputs": [
    {
     "name": "stdout",
     "output_type": "stream",
     "text": [
      "[(1108000, )]\n"
     ]
    }
   ],
   "source": []
  },
  {
   "cell_type": "code",
   "execution_count": 24,
   "metadata": {},
   "outputs": [],
   "source": []
  },
  {
   "cell_type": "code",
   "execution_count": 50,
   "metadata": {},
   "outputs": [
    {
     "name": "stdout",
     "output_type": "stream",
     "text": [
      "[(7702, )]\n"
     ]
    }
   ],
   "source": []
  },
  {
   "cell_type": "code",
   "execution_count": null,
   "metadata": {},
   "outputs": [],
   "source": []
  },
  {
   "cell_type": "code",
   "execution_count": null,
   "metadata": {},
   "outputs": [],
   "source": []
  },
  {
   "cell_type": "code",
   "execution_count": 278,
   "metadata": {},
   "outputs": [
    {
     "name": "stdout",
     "output_type": "stream",
     "text": [
      "0\n",
      "<class 'int'>\n"
     ]
    }
   ],
   "source": [
    "import math\n",
    "''' Intern TABLE ATTRIBUTES\n",
    "(\n",
    "SSN int identity (3000000,1) primary key Not NULL,\n",
    "Fname nvarchar(50),\n",
    "Minit varchar,\n",
    "Lname nvarchar(50),\n",
    "Bdate DATE,\n",
    "Address_ nvarchar(50),\n",
    "Sex tinyint check(Sex between 0 and 2),\n",
    "Salary int,\n",
    "Major nvarchar(50),\n",
    "PNO INT foreign key references Project(Pnumber),\n",
    "Super_SSN int foreign key references Employee(SSN)\n",
    ");\n",
    "'''\n",
    "\n",
    "\n",
    "\n",
    "#new empty dataframe\n",
    "df_intern = pd.DataFrame()\n",
    "#df_intern['SSN']=         auto incremented\n",
    "df_intern['Fname']= ['Ayman', 'Mohamed']\n",
    "df_intern['Minit']= ['M', 'R']\n",
    "df_intern['Lname']= ['Reda', 'Abdo']\n",
    "df_intern['Bdate']= [pd.to_datetime(\"20/12/2004\"), pd.to_datetime(\"11/11/2000\")]\n",
    "df_intern['Address_']= [Address_df.loc[1, 'FULL ADDRESS'], Address_df.loc[3, 'FULL ADDRESS']]\n",
    "df_intern['Sex']= [1,1]\n",
    "df_intern['Salary']= [2000,3000]\n",
    "df_intern['Major']= [\"Computer\", \"Engineering\"]\n",
    "df_intern['PNO']= [3, 5]                                                                #MUST BE PRESENT IN THE PNO\n",
    "df_intern['Super_SSN']= [1, 2]\n",
    "\n",
    "for i in range(300):\n",
    "    #df_intern.loc[i, 'PNO'] = 600000\n",
    "    if(i == 3):\n",
    "        print(type(i))\n",
    "    df_intern.loc[i, 'Fname'] = names_df.loc[i, 'Name']\n",
    "    \n",
    "    df_intern.loc[i, 'Minit'] = random.choice(alphabet)\n",
    "    df_intern.loc[i, 'Lname'] = names_df.loc[i, 'Name']\n",
    "    df_intern.loc[i, 'Address_'] = Address_df.loc[i, 'FULL ADDRESS']\n",
    "    \n",
    "    randSex = random.choice(range(0,3))\n",
    "    randSalary = random.choice(range(1, 100000))\n",
    "    \n",
    "    df_intern.loc[i, 'Bdate'] = GenerateRandomDate()\n",
    "    df_intern.loc[i, 'Sex'] = randSex\n",
    "    df_intern.loc[i, 'Salary'] = randSalary\n",
    "    df_intern.loc[i, 'Major'] = jobs_df.loc[i%5000, 'top related titles 19']\n",
    "                                                                                      #Specify we have 60000 project\n",
    "    df_intern.loc[i, 'Super_SSN'] = random.randint(1, 5000)*100                                  #the first 500000 employees are intern supervisors\n",
    "    if(i%1000 == 0):\n",
    "        print(i)\n",
    "\n",
    "\n",
    "for i in range(300):\n",
    "    df_intern.loc[i, 'PNO'] = i\n",
    "\n",
    "while(len(df_intern) < 10000):\n",
    "    df_intern = df_intern.append(df_intern)\n",
    "'''\n",
    "df_intern[\"Salary\"] = int(df_intern[\"Salary\"])\n",
    "df_intern[\"Sex\"] = int(df_intern[\"Sex\"])\n",
    "\n",
    "df_intern[\"Super_SSN\"] = int(df_intern[\"Super_SSN\"])\n",
    "'''\n",
    "df_intern[\"PNO\"] = (df_intern[\"PNO\"]).astype(int)\n",
    "\n",
    "df_intern.to_csv('Intern.csv')"
   ]
  },
  {
   "cell_type": "code",
   "execution_count": 4,
   "metadata": {},
   "outputs": [
    {
     "data": {
      "text/html": [
       "<div>\n",
       "<style scoped>\n",
       "    .dataframe tbody tr th:only-of-type {\n",
       "        vertical-align: middle;\n",
       "    }\n",
       "\n",
       "    .dataframe tbody tr th {\n",
       "        vertical-align: top;\n",
       "    }\n",
       "\n",
       "    .dataframe thead th {\n",
       "        text-align: right;\n",
       "    }\n",
       "</style>\n",
       "<table border=\"1\" class=\"dataframe\">\n",
       "  <thead>\n",
       "    <tr style=\"text-align: right;\">\n",
       "      <th></th>\n",
       "      <th>Unnamed: 0</th>\n",
       "      <th>Fname</th>\n",
       "      <th>Minit</th>\n",
       "      <th>Lname</th>\n",
       "      <th>Bdate</th>\n",
       "      <th>Address_</th>\n",
       "      <th>Sex</th>\n",
       "      <th>Salary</th>\n",
       "      <th>Major</th>\n",
       "      <th>PNO</th>\n",
       "      <th>Super_SSN</th>\n",
       "    </tr>\n",
       "  </thead>\n",
       "  <tbody>\n",
       "    <tr>\n",
       "      <th>0</th>\n",
       "      <td>0</td>\n",
       "      <td>Mary</td>\n",
       "      <td>f</td>\n",
       "      <td>Mary</td>\n",
       "      <td>2003-06-13</td>\n",
       "      <td>7353 HIGHLAND RD, STE B 282</td>\n",
       "      <td>2.0</td>\n",
       "      <td>81694.0</td>\n",
       "      <td>general manager</td>\n",
       "      <td>0</td>\n",
       "      <td>156600.0</td>\n",
       "    </tr>\n",
       "    <tr>\n",
       "      <th>1</th>\n",
       "      <td>1</td>\n",
       "      <td>Anna</td>\n",
       "      <td>C</td>\n",
       "      <td>Anna</td>\n",
       "      <td>2000-01-25</td>\n",
       "      <td>9007 HIGHLAND RD, STE 9</td>\n",
       "      <td>1.0</td>\n",
       "      <td>57209.0</td>\n",
       "      <td>sales manager</td>\n",
       "      <td>1</td>\n",
       "      <td>220600.0</td>\n",
       "    </tr>\n",
       "    <tr>\n",
       "      <th>2</th>\n",
       "      <td>2</td>\n",
       "      <td>Emma</td>\n",
       "      <td>P</td>\n",
       "      <td>Emma</td>\n",
       "      <td>2001-02-24</td>\n",
       "      <td>5830 S SHERWOOD FOREST BLVD, STE A6</td>\n",
       "      <td>2.0</td>\n",
       "      <td>83730.0</td>\n",
       "      <td>principal</td>\n",
       "      <td>2</td>\n",
       "      <td>390500.0</td>\n",
       "    </tr>\n",
       "    <tr>\n",
       "      <th>3</th>\n",
       "      <td>3</td>\n",
       "      <td>Elizabeth</td>\n",
       "      <td>g</td>\n",
       "      <td>Elizabeth</td>\n",
       "      <td>2000-04-01</td>\n",
       "      <td>4520 S SHERWOOD FOREST BLVD, STE 103</td>\n",
       "      <td>2.0</td>\n",
       "      <td>82711.0</td>\n",
       "      <td>owner</td>\n",
       "      <td>3</td>\n",
       "      <td>79200.0</td>\n",
       "    </tr>\n",
       "    <tr>\n",
       "      <th>4</th>\n",
       "      <td>4</td>\n",
       "      <td>Minnie</td>\n",
       "      <td>y</td>\n",
       "      <td>Minnie</td>\n",
       "      <td>2000-03-27</td>\n",
       "      <td>8334 O'HARA CT, STE D</td>\n",
       "      <td>2.0</td>\n",
       "      <td>53267.0</td>\n",
       "      <td>chief executive offi</td>\n",
       "      <td>4</td>\n",
       "      <td>3700.0</td>\n",
       "    </tr>\n",
       "  </tbody>\n",
       "</table>\n",
       "</div>"
      ],
      "text/plain": [
       "   Unnamed: 0      Fname Minit      Lname       Bdate  \\\n",
       "0           0       Mary     f       Mary  2003-06-13   \n",
       "1           1       Anna     C       Anna  2000-01-25   \n",
       "2           2       Emma     P       Emma  2001-02-24   \n",
       "3           3  Elizabeth     g  Elizabeth  2000-04-01   \n",
       "4           4     Minnie     y     Minnie  2000-03-27   \n",
       "\n",
       "                               Address_  Sex   Salary                  Major  \\\n",
       "0           7353 HIGHLAND RD, STE B 282  2.0  81694.0        general manager   \n",
       "1               9007 HIGHLAND RD, STE 9  1.0  57209.0          sales manager   \n",
       "2   5830 S SHERWOOD FOREST BLVD, STE A6  2.0  83730.0              principal   \n",
       "3  4520 S SHERWOOD FOREST BLVD, STE 103  2.0  82711.0                  owner   \n",
       "4                 8334 O'HARA CT, STE D  2.0  53267.0   chief executive offi   \n",
       "\n",
       "   PNO  Super_SSN  \n",
       "0    0   156600.0  \n",
       "1    1   220600.0  \n",
       "2    2   390500.0  \n",
       "3    3    79200.0  \n",
       "4    4     3700.0  "
      ]
     },
     "execution_count": 4,
     "metadata": {},
     "output_type": "execute_result"
    }
   ],
   "source": [
    "df_intern = pd.read_csv('Intern.csv')\n",
    "df_intern.head()"
   ]
  },
  {
   "cell_type": "code",
   "execution_count": 5,
   "metadata": {},
   "outputs": [],
   "source": [
    "server = 'LAPTOP-66BOPJMV\\SQLEXPRESS'\n",
    "database = 'Brokerage_Firm'\n",
    "\n",
    "connection = pyodbc.connect('DRIVER={ODBC Driver 17 for SQL Server};\\\n",
    "                            server='+server+';\\\n",
    "                            database='+database+';\\\n",
    "                            trusted_connection=yes;')\n",
    "cursor = connection.cursor()\n",
    "\n",
    "\n",
    "count = cursor.execute(\"delete from Intern\")\n",
    "cursor.commit()"
   ]
  },
  {
   "cell_type": "code",
   "execution_count": 6,
   "metadata": {},
   "outputs": [
    {
     "ename": "IntegrityError",
     "evalue": "('23000', '[23000] [Microsoft][ODBC Driver 17 for SQL Server][SQL Server]The INSERT statement conflicted with the FOREIGN KEY constraint \"FK__Intern__PNO__4316F928\". The conflict occurred in database \"Brokerage_firm\", table \"dbo.Project\", column \\'Pnumber\\'. (547) (SQLExecDirectW); [23000] [Microsoft][ODBC Driver 17 for SQL Server][SQL Server]The statement has been terminated. (3621)')",
     "output_type": "error",
     "traceback": [
      "\u001b[1;31m---------------------------------------------------------------------------\u001b[0m",
      "\u001b[1;31mIntegrityError\u001b[0m                            Traceback (most recent call last)",
      "\u001b[1;32m<ipython-input-6-9fc046ea8064>\u001b[0m in \u001b[0;36m<module>\u001b[1;34m\u001b[0m\n\u001b[0;32m     18\u001b[0m         df_intern.iloc[i,8], int(df_intern.iloc[i,9]), int(df_intern.iloc[i,10])]\n\u001b[0;32m     19\u001b[0m     \u001b[1;31m#try:\u001b[0m\u001b[1;33m\u001b[0m\u001b[1;33m\u001b[0m\u001b[1;33m\u001b[0m\u001b[0m\n\u001b[1;32m---> 20\u001b[1;33m     \u001b[0mcursor\u001b[0m\u001b[1;33m.\u001b[0m\u001b[0mexecute\u001b[0m\u001b[1;33m(\u001b[0m\u001b[0minsert_to_Intern\u001b[0m\u001b[1;33m,\u001b[0m \u001b[0mlst\u001b[0m\u001b[1;33m)\u001b[0m\u001b[1;33m\u001b[0m\u001b[1;33m\u001b[0m\u001b[0m\n\u001b[0m\u001b[0;32m     21\u001b[0m     \u001b[1;31m#except:\u001b[0m\u001b[1;33m\u001b[0m\u001b[1;33m\u001b[0m\u001b[1;33m\u001b[0m\u001b[0m\n\u001b[0;32m     22\u001b[0m     \u001b[1;31m#    print(df_intern.iloc[i,5:])\u001b[0m\u001b[1;33m\u001b[0m\u001b[1;33m\u001b[0m\u001b[1;33m\u001b[0m\u001b[0m\n",
      "\u001b[1;31mIntegrityError\u001b[0m: ('23000', '[23000] [Microsoft][ODBC Driver 17 for SQL Server][SQL Server]The INSERT statement conflicted with the FOREIGN KEY constraint \"FK__Intern__PNO__4316F928\". The conflict occurred in database \"Brokerage_firm\", table \"dbo.Project\", column \\'Pnumber\\'. (547) (SQLExecDirectW); [23000] [Microsoft][ODBC Driver 17 for SQL Server][SQL Server]The statement has been terminated. (3621)')"
     ]
    }
   ],
   "source": [
    "\n",
    "server = 'LAPTOP-66BOPJMV\\SQLEXPRESS'\n",
    "database = 'Brokerage_Firm'\n",
    "\n",
    "connection = pyodbc.connect('DRIVER={ODBC Driver 17 for SQL Server};\\\n",
    "                            server='+server+';\\\n",
    "                            database='+database+';\\\n",
    "                            trusted_connection=yes;')\n",
    "cursor = connection.cursor()\n",
    "\n",
    "\n",
    "insert_to_Intern = \"INSERT INTO Intern (Fname, Minit, Lname, Bdate, Address_, Sex, Salary, Major, PNO, Super_SSN) VALUES(?,?,?, ?, ?, ?, ?, ?, ?, ?)\"\n",
    "select_all_from_Intern = \"select * from Intern\"\n",
    "get_Intern_count = \"select count (*) from Intern\"\n",
    "\n",
    "for i in range(1,2000):\n",
    "    #lst = df_intern.iloc[i,1:].values.tolist()\n",
    "    lst = [df_intern.iloc[i,1], df_intern.iloc[i,2], df_intern.iloc[i,3], df_intern.iloc[i,4], df_intern.iloc[i,5], int(df_intern.iloc[i,6]), int(df_intern.iloc[i,7]), \\\n",
    "        df_intern.iloc[i,8], int(df_intern.iloc[i,9]), int(df_intern.iloc[i,10])]\n",
    "    #try:\n",
    "    cursor.execute(insert_to_Intern, lst)\n",
    "    #except:\n",
    "    #    print(df_intern.iloc[i,5:])\n",
    "\n",
    "\n",
    "connection.commit()\n",
    "\n",
    "count = cursor.execute(get_Intern_count)\n",
    "print(list(count))"
   ]
  },
  {
   "cell_type": "code",
   "execution_count": 195,
   "metadata": {},
   "outputs": [
    {
     "data": {
      "text/plain": [
       "Fname                   Emmer\n",
       "Minit                       k\n",
       "Lname                   Emmer\n",
       "Bdate              2003-05-26\n",
       "Address_     4068 HIGHLAND RD\n",
       "Sex                       2.0\n",
       "Salary                47576.0\n",
       "Major                     NaN\n",
       "PNO                     525.0\n",
       "Super_SSN            280112.0\n",
       "Name: 525, dtype: object"
      ]
     },
     "execution_count": 195,
     "metadata": {},
     "output_type": "execute_result"
    }
   ],
   "source": [
    "df_intern.iloc[525,1:]"
   ]
  },
  {
   "cell_type": "code",
   "execution_count": 53,
   "metadata": {},
   "outputs": [],
   "source": []
  },
  {
   "cell_type": "code",
   "execution_count": 57,
   "metadata": {},
   "outputs": [
    {
     "name": "stdout",
     "output_type": "stream",
     "text": [
      "[(808000, )]\n"
     ]
    }
   ],
   "source": [
    "\n"
   ]
  }
 ],
 "metadata": {
  "kernelspec": {
   "display_name": "base",
   "language": "python",
   "name": "python3"
  },
  "language_info": {
   "codemirror_mode": {
    "name": "ipython",
    "version": 3
   },
   "file_extension": ".py",
   "mimetype": "text/x-python",
   "name": "python",
   "nbconvert_exporter": "python",
   "pygments_lexer": "ipython3",
   "version": "3.8.8"
  },
  "orig_nbformat": 4,
  "vscode": {
   "interpreter": {
    "hash": "655c12636761ad29ab72f84a68a8a53faa13a1d27df70400707a6bbc70c23f25"
   }
  }
 },
 "nbformat": 4,
 "nbformat_minor": 2
}
