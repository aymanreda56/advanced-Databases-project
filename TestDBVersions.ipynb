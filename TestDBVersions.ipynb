{
 "cells": [
  {
   "cell_type": "code",
   "execution_count": null,
   "metadata": {},
   "outputs": [],
   "source": [
    "another_complex3 = 'select count(SSN) from Employee a, Department b where a.SSN < b.Dnumber and a.Salary < b.Dnumber and b.Mgr_SSN < 80000'\n",
    "\n",
    "another_complex4 = 'select SSN , Salary from Employee a, Department b where a.SSN < b.Dnumber and a.Salary < b.Dnumber and b.Mgr_SSN < 80000 group by Salary, SSN;'\n",
    "\n",
    "\n",
    "another_complex_ayman = 'select DISTINCT Salary, Fname, Dname from Employee e, Department d, Contracts c where e.SSN = c.Emp_SSN and e.DNO = d.Dnumber'"
   ]
  },
  {
   "cell_type": "code",
   "execution_count": 2,
   "metadata": {},
   "outputs": [],
   "source": [
    "import pandas as pd\n",
    "import pyodbc\n",
    "import numpy as np\n",
    "import random\n",
    "from tqdm import tqdm\n",
    "from datetime import datetime\n",
    "\n"
   ]
  },
  {
   "cell_type": "code",
   "execution_count": 3,
   "metadata": {},
   "outputs": [
    {
     "name": "stdout",
     "output_type": "stream",
     "text": [
      "2.263041\n"
     ]
    }
   ],
   "source": [
    "\n",
    "server = 'LAPTOP-66BOPJMV\\SQLEXPRESS'\n",
    "database = 'Brokerage_Firm_10k'\n",
    "\n",
    "connection = pyodbc.connect('DRIVER={ODBC Driver 17 for SQL Server};\\\n",
    "                            server='+server+';\\\n",
    "                            database='+database+';\\\n",
    "                            trusted_connection=yes;')\n",
    "cursor = connection.cursor()\n",
    "\n",
    "\n",
    "before = datetime.now()\n",
    "cursor.execute(another_complex3)\n",
    "after = datetime.now()\n",
    "\n",
    "\n",
    "timeDiff = after - before\n",
    "print(timeDiff.total_seconds())\n",
    "\n"
   ]
  },
  {
   "cell_type": "code",
   "execution_count": 4,
   "metadata": {},
   "outputs": [
    {
     "name": "stdout",
     "output_type": "stream",
     "text": [
      "264.23723\n"
     ]
    }
   ],
   "source": [
    "\n",
    "server = 'LAPTOP-66BOPJMV\\SQLEXPRESS'\n",
    "database = 'Brokerage_Firm_100k'\n",
    "\n",
    "connection = pyodbc.connect('DRIVER={ODBC Driver 17 for SQL Server};\\\n",
    "                            server='+server+';\\\n",
    "                            database='+database+';\\\n",
    "                            trusted_connection=yes;')\n",
    "cursor = connection.cursor()\n",
    "\n",
    "\n",
    "\n",
    "\n",
    "before = datetime.now()\n",
    "cursor.execute(another_complex3)\n",
    "after = datetime.now()\n",
    "\n",
    "\n",
    "timeDiff = after - before\n",
    "print(timeDiff.total_seconds())"
   ]
  },
  {
   "cell_type": "code",
   "execution_count": 5,
   "metadata": {},
   "outputs": [
    {
     "ename": "",
     "evalue": "",
     "output_type": "error",
     "traceback": [
      "\u001b[1;31mCanceled future for execute_request message before replies were done"
     ]
    },
    {
     "ename": "",
     "evalue": "",
     "output_type": "error",
     "traceback": [
      "\u001b[1;31mThe Kernel crashed while executing code in the the current cell or a previous cell. Please review the code in the cell(s) to identify a possible cause of the failure. Click <a href='https://aka.ms/vscodeJupyterKernelCrash'>here</a> for more info. View Jupyter <a href='command:jupyter.viewOutput'>log</a> for further details."
     ]
    }
   ],
   "source": [
    "\n",
    "server = 'LAPTOP-66BOPJMV\\SQLEXPRESS'\n",
    "database = 'Brokerage_Firm_1M'\n",
    "\n",
    "connection = pyodbc.connect('DRIVER={ODBC Driver 17 for SQL Server};\\\n",
    "                            server='+server+';\\\n",
    "                            database='+database+';\\\n",
    "                            trusted_connection=yes;')\n",
    "cursor = connection.cursor()\n",
    "\n",
    "\n",
    "\n",
    "before = datetime.now()\n",
    "cursor.execute(another_complex3)\n",
    "after = datetime.now()\n",
    "\n",
    "\n",
    "timeDiff = after - before\n",
    "print(timeDiff.total_seconds())"
   ]
  },
  {
   "cell_type": "code",
   "execution_count": null,
   "metadata": {},
   "outputs": [],
   "source": [
    "\n",
    "server = 'LAPTOP-66BOPJMV\\SQLEXPRESS'\n",
    "database = 'Brokerage_Firm'\n",
    "\n",
    "connection = pyodbc.connect('DRIVER={ODBC Driver 17 for SQL Server};\\\n",
    "                            server='+server+';\\\n",
    "                            database='+database+';\\\n",
    "                            trusted_connection=yes;')\n",
    "cursor = connection.cursor()\n",
    "\n",
    "\n",
    "\n",
    "\n",
    "before = datetime.now()\n",
    "cursor.execute(another_complex3)\n",
    "after = datetime.now()\n",
    "\n",
    "\n",
    "timeDiff = after - before\n",
    "print(timeDiff.total_seconds())"
   ]
  },
  {
   "cell_type": "code",
   "execution_count": null,
   "metadata": {},
   "outputs": [],
   "source": []
  },
  {
   "cell_type": "code",
   "execution_count": null,
   "metadata": {},
   "outputs": [],
   "source": [
    "\n",
    "server = 'LAPTOP-66BOPJMV\\SQLEXPRESS'\n",
    "database = 'Brokerage_Firm_10k'\n",
    "\n",
    "connection = pyodbc.connect('DRIVER={ODBC Driver 17 for SQL Server};\\\n",
    "                            server='+server+';\\\n",
    "                            database='+database+';\\\n",
    "                            trusted_connection=yes;')\n",
    "cursor = connection.cursor()\n",
    "\n",
    "\n",
    "before = datetime.now()\n",
    "cursor.execute(another_complex_ayman)\n",
    "after = datetime.now()\n",
    "\n",
    "\n",
    "timeDiff = after - before\n",
    "print(timeDiff.total_seconds())"
   ]
  }
 ],
 "metadata": {
  "kernelspec": {
   "display_name": "cudatorch",
   "language": "python",
   "name": "cudatorch"
  },
  "language_info": {
   "codemirror_mode": {
    "name": "ipython",
    "version": 3
   },
   "file_extension": ".py",
   "mimetype": "text/x-python",
   "name": "python",
   "nbconvert_exporter": "python",
   "pygments_lexer": "ipython3",
   "version": "3.9.1"
  },
  "orig_nbformat": 4,
  "vscode": {
   "interpreter": {
    "hash": "d60fe05ab80fea0afb1a7376ded182976bfead7f5cd417a1edbe8ad0d2cfba3b"
   }
  }
 },
 "nbformat": 4,
 "nbformat_minor": 2
}
